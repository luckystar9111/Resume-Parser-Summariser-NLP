{
 "cells": [
  {
   "cell_type": "markdown",
   "metadata": {},
   "source": [
    "## NER based Resume parser and summarizer"
   ]
  },
  {
   "cell_type": "markdown",
   "metadata": {},
   "source": [
    "### Installing the packages"
   ]
  },
  {
   "cell_type": "code",
   "execution_count": 1,
   "metadata": {
    "colab": {
     "base_uri": "https://localhost:8080/"
    },
    "id": "vtjgVlJ3Es9l",
    "outputId": "bbd35489-787d-40c8-b2cc-6f8f7791320f"
   },
   "outputs": [],
   "source": [
    "# !python -m spacy info\n",
    "# !pip install fitz\n",
    "# !pip install PyMuPDF\n",
    "# !pip install wordcloud\n",
    "# !pip install ntlk\n",
    "# !pip install PyMuPDF==1.16.14"
   ]
  },
  {
   "cell_type": "markdown",
   "metadata": {},
   "source": [
    "### Importing the packages"
   ]
  },
  {
   "cell_type": "code",
   "execution_count": 1,
   "metadata": {
    "colab": {
     "base_uri": "https://localhost:8080/",
     "height": 35
    },
    "id": "3YDswYTMEs9n",
    "outputId": "337357fb-7396-4f55-ca28-cd8fdab2fd80"
   },
   "outputs": [],
   "source": [
    "import spacy\n",
    "import pickle\n",
    "import random\n",
    "import nltk\n",
    "# nltk.download('stopwords')\n",
    "from nltk.corpus import stopwords\n",
    "import numpy as np\n",
    "from wordcloud import WordCloud\n",
    "import matplotlib.pyplot as plt\n",
    "from PIL import Image\n",
    "from nltk.stem import PorterStemmer\n",
    "nlp_spacy = spacy.load('en_core_web_sm')\n",
    "stpwords = stopwords.words('english')\n",
    "import sys,fitz"
   ]
  },
  {
   "cell_type": "markdown",
   "metadata": {},
   "source": [
    "### Loading the Data"
   ]
  },
  {
   "cell_type": "code",
   "execution_count": 2,
   "metadata": {
    "id": "OgItpjHiEs9o"
   },
   "outputs": [],
   "source": [
    "train_data = pickle.load(open('train_data.pkl', 'rb'))"
   ]
  },
  {
   "cell_type": "markdown",
   "metadata": {},
   "source": [
    "### Training the model"
   ]
  },
  {
   "cell_type": "code",
   "execution_count": null,
   "metadata": {
    "id": "deF4AywmEs9o"
   },
   "outputs": [],
   "source": [
    "nlp = spacy.blank('en')\n",
    "\n",
    "def train_model(train_data):\n",
    "    if 'ner' not in nlp.pipe_names:\n",
    "        ner = nlp.create_pipe('ner')\n",
    "        nlp.add_pipe(ner, last = True)\n",
    "        \n",
    "    for _, annotation in train_data:\n",
    "        for ent in annotation['entities']:\n",
    "            ner.add_label(ent[2])\n",
    "            \n",
    "    other_pipes = [pipe for pipe in nlp.pipe_names if pipe != 'ner']\n",
    "    with nlp.disable_pipes(*other_pipes):\n",
    "        optimizer = nlp.begin_training()\n",
    "        for itn in range(10):\n",
    "            print('Starting iteration ' + str(itn))\n",
    "            random.shuffle(train_data)\n",
    "            losses = {}\n",
    "            index = 0\n",
    "            for text, annotations in train_data:\n",
    "                try:\n",
    "                    nlp.update(\n",
    "                        [text],\n",
    "                        [annotations],\n",
    "                        drop=0.2,\n",
    "                        sgd = optimizer,\n",
    "                        losses = losses)\n",
    "                except Exception as e:\n",
    "                    pass\n",
    "            print(losses)"
   ]
  },
  {
   "cell_type": "code",
   "execution_count": null,
   "metadata": {
    "colab": {
     "base_uri": "https://localhost:8080/"
    },
    "id": "74TBbl7zEs9p",
    "outputId": "c99f3214-cd45-4e0d-fb1f-49f87e3e96e2"
   },
   "outputs": [],
   "source": [
    "train_model(train_data)"
   ]
  },
  {
   "cell_type": "code",
   "execution_count": null,
   "metadata": {
    "id": "2osEgqvkEs9p"
   },
   "outputs": [],
   "source": [
    "nlp.to_disk('nlp_model')"
   ]
  },
  {
   "cell_type": "markdown",
   "metadata": {},
   "source": [
    "### Loading the train model"
   ]
  },
  {
   "cell_type": "code",
   "execution_count": 3,
   "metadata": {
    "id": "M3UpHnVfEs9p"
   },
   "outputs": [],
   "source": [
    "nlp_model = spacy.load('nlp_model')"
   ]
  },
  {
   "cell_type": "markdown",
   "metadata": {},
   "source": [
    "### PDF to text convert function"
   ]
  },
  {
   "cell_type": "code",
   "execution_count": 4,
   "metadata": {
    "colab": {
     "base_uri": "https://localhost:8080/"
    },
    "id": "2_XHGRBREs9p",
    "outputId": "acedd8db-565d-4112-dba0-6f6ed1e09d90"
   },
   "outputs": [],
   "source": [
    "def pdf2text(input_resume):\n",
    "    doc = fitz.open(input_resume)\n",
    "    text = \"\"\n",
    "    for page in doc:\n",
    "        text = text+ str(page.getText())\n",
    "    tx = \" \".join(text.split('\\n'))\n",
    "    return tx"
   ]
  },
  {
   "cell_type": "markdown",
   "metadata": {},
   "source": [
    "### Comparing Skills and skill score function"
   ]
  },
  {
   "cell_type": "code",
   "execution_count": 5,
   "metadata": {},
   "outputs": [],
   "source": [
    "def candidateMatching(required_skills,updated_tokens_list):\n",
    "    list_skills = required_skills.lower().split(\",\")\n",
    "    found_skills_each_resume = []\n",
    "    score = 0\n",
    "    for x in list_skills:\n",
    "        if x in updated_tokens_list:\n",
    "            score += 1\n",
    "            found_skills_each_resume.append(x)\n",
    "    req_skills_len = len(list_skills)\n",
    "    match = round(score / req_skills_len * 100, 1)\n",
    "    \n",
    "    return found_skills_each_resume,match"
   ]
  },
  {
   "cell_type": "markdown",
   "metadata": {},
   "source": [
    "### Porter stemmer function for stemming "
   ]
  },
  {
   "cell_type": "code",
   "execution_count": 6,
   "metadata": {},
   "outputs": [],
   "source": [
    "def stemming_tokenizer(tokens_list):\n",
    "    rootWord = []\n",
    "    tokens = [x.lower() for xs in tokens_list for x in xs.split(',')]\n",
    "    ps = PorterStemmer()\n",
    "    for w in tokens_list:\n",
    "        if w not in stpwords:\n",
    "            rootWord.append(ps.stem(w))\n",
    "    return rootWord"
   ]
  },
  {
   "cell_type": "markdown",
   "metadata": {},
   "source": [
    "### Lemmatization function"
   ]
  },
  {
   "cell_type": "code",
   "execution_count": 7,
   "metadata": {},
   "outputs": [],
   "source": [
    "def lemma_tokenizer(tokens_list):\n",
    "    rootWord = []\n",
    "    for token in tokens_list:\n",
    "        if token.lemma_ not in stpwords:\n",
    "            rootWord.append(token.lemma_)\n",
    "    return [x.lower() for xs in rootWord for x in xs.split(',')]"
   ]
  },
  {
   "cell_type": "markdown",
   "metadata": {},
   "source": [
    "### Entity extraction function"
   ]
  },
  {
   "cell_type": "code",
   "execution_count": 8,
   "metadata": {},
   "outputs": [],
   "source": [
    "def entity_extraction(resume, required_skills):\n",
    "    test=pdf2text(resume)\n",
    "    doc = nlp_model(test)\n",
    "    l=[]\n",
    "    s=[]\n",
    "    x={}\n",
    "    for ent in doc.ents:\n",
    "        if ent.label_.upper() not in l:\n",
    "            l.append(ent.label_.upper())\n",
    "            print(f'{ent.label_.upper():{30}}- {ent.text}')\n",
    "            x[ent.label_.upper()]=ent.text\n",
    "        text_list=[test]\n",
    "        tokens_list=' '.join(text_list).split()\n",
    "        \n",
    "#     updated_tokens_list= [x.lower() for xs in tokens_list for x in xs.split(',')]\n",
    "#     updated_tokens_list= stemming_tokenizer(tokens_list)\n",
    "    updated_tokens_list=lemma_tokenizer(doc)\n",
    "    final_token_list.extend(updated_tokens_list)\n",
    "    x['Skills'],x['Match']=candidateMatching(required_skills,updated_tokens_list)\n",
    "    extractedDetails[i]=x"
   ]
  },
  {
   "cell_type": "code",
   "execution_count": 9,
   "metadata": {},
   "outputs": [],
   "source": [
    "extractedDetails={} \n",
    "final_token_list=[]\n",
    "found_skills = {}"
   ]
  },
  {
   "cell_type": "markdown",
   "metadata": {},
   "source": [
    "### Adding resume documents path"
   ]
  },
  {
   "cell_type": "code",
   "execution_count": 10,
   "metadata": {},
   "outputs": [
    {
     "name": "stdout",
     "output_type": "stream",
     "text": [
      "['E:/Book 3/SEMESTER 5/CSE4022 - NATURAL LANGUAGE PROCESSING/J COMP/resumes\\\\Alice Clark CV.pdf', 'E:/Book 3/SEMESTER 5/CSE4022 - NATURAL LANGUAGE PROCESSING/J COMP/resumes\\\\ara.pdf', 'E:/Book 3/SEMESTER 5/CSE4022 - NATURAL LANGUAGE PROCESSING/J COMP/resumes\\\\dd.pdf', 'E:/Book 3/SEMESTER 5/CSE4022 - NATURAL LANGUAGE PROCESSING/J COMP/resumes\\\\Hash.pdf', 'E:/Book 3/SEMESTER 5/CSE4022 - NATURAL LANGUAGE PROCESSING/J COMP/resumes\\\\Narendra.pdf']\n"
     ]
    }
   ],
   "source": [
    "import os\n",
    "path = \"E:/Book 3/SEMESTER 5/CSE4022 - NATURAL LANGUAGE PROCESSING/J COMP/resumes\"\n",
    "  \n",
    "os.chdir(path)\n",
    "file_path=[]\n",
    "for file in os.listdir():\n",
    "    file_path.append(f\"{path}\\{file}\")\n",
    "print(file_path)"
   ]
  },
  {
   "cell_type": "markdown",
   "metadata": {},
   "source": [
    "### Defining requirement skills and cutoff"
   ]
  },
  {
   "cell_type": "code",
   "execution_count": 12,
   "metadata": {},
   "outputs": [],
   "source": [
    "skill_set='engineering,python,NLP,API,HTML,express'\n",
    "cutoff = 25.0"
   ]
  },
  {
   "cell_type": "markdown",
   "metadata": {},
   "source": [
    "### Calling the netity extraction function "
   ]
  },
  {
   "cell_type": "code",
   "execution_count": 13,
   "metadata": {},
   "outputs": [
    {
     "name": "stdout",
     "output_type": "stream",
     "text": [
      "NAME                          - Alice Clark\n",
      "LOCATION                      - Delhi\n",
      "DESIGNATION                   - Software Engineer\n",
      "COMPANIES WORKED AT           - Microsoft\n",
      "DEGREE                        - Indian Institute of Technology – Mumbai\n",
      "NAME                          - B ARAVINDA\n",
      "DEGREE                        - B. Tech Student I'm currently pursuing, B. Tech in Computer Science at VIT. Interested in the ﬁeld of Computer Science and Technologies. Enthusiastic Learner in the ﬁeld of Data Science, Web and App Development. aravinda992@gmail.com +919840280874 Chennai\n",
      "NAME                          - Divya shree\n",
      "DESIGNATION                   - Score B.Tech\n",
      "NAME                          - Hashwanth S\n",
      "DESIGNATION                   - +91-8248336430 | hashwanth2002@gmail.com | https://www.linkedin.com/in/stykerhash/ |\n",
      "DEGREE                        - Institute of Technology\n",
      "NAME                          - Narendra G\n",
      "COLLEGE NAME                  - Vellore Institute of Technology, Chennai\n"
     ]
    }
   ],
   "source": [
    "for i in range(len(file_path)):\n",
    "    entity_extraction(file_path[i],skill_set)"
   ]
  },
  {
   "cell_type": "markdown",
   "metadata": {},
   "source": [
    "### Extracted entities"
   ]
  },
  {
   "cell_type": "code",
   "execution_count": 14,
   "metadata": {},
   "outputs": [
    {
     "data": {
      "text/plain": [
       "{0: {'NAME': 'Alice Clark',\n",
       "  'LOCATION': 'Delhi',\n",
       "  'DESIGNATION': 'Software Engineer',\n",
       "  'COMPANIES WORKED AT': 'Microsoft',\n",
       "  'DEGREE': 'Indian Institute of Technology – Mumbai',\n",
       "  'Skills': [],\n",
       "  'Match': 0.0},\n",
       " 1: {'NAME': 'B ARAVINDA',\n",
       "  'DEGREE': \"B. Tech Student I'm currently pursuing, B. Tech in Computer Science at VIT. Interested in the ﬁeld of Computer Science and Technologies. Enthusiastic Learner in the ﬁeld of Data Science, Web and App Development. aravinda992@gmail.com +919840280874 Chennai\",\n",
       "  'Skills': ['engineering', 'python', 'html'],\n",
       "  'Match': 50.0},\n",
       " 2: {'NAME': 'Divya shree',\n",
       "  'DESIGNATION': 'Score B.Tech',\n",
       "  'Skills': ['python', 'html'],\n",
       "  'Match': 33.3},\n",
       " 3: {'NAME': 'Hashwanth S',\n",
       "  'DESIGNATION': '+91-8248336430 | hashwanth2002@gmail.com | https://www.linkedin.com/in/stykerhash/ |',\n",
       "  'DEGREE': 'Institute of Technology',\n",
       "  'Skills': ['engineering', 'python', 'api', 'html', 'express'],\n",
       "  'Match': 83.3},\n",
       " 4: {'NAME': 'Narendra G',\n",
       "  'COLLEGE NAME': 'Vellore Institute of Technology, Chennai',\n",
       "  'Skills': ['engineering', 'python', 'html'],\n",
       "  'Match': 50.0}}"
      ]
     },
     "execution_count": 14,
     "metadata": {},
     "output_type": "execute_result"
    }
   ],
   "source": [
    "extractedDetails"
   ]
  },
  {
   "cell_type": "markdown",
   "metadata": {},
   "source": [
    "#### Inference"
   ]
  },
  {
   "cell_type": "markdown",
   "metadata": {},
   "source": [
    "### Cutoff checker and ranking"
   ]
  },
  {
   "cell_type": "code",
   "execution_count": 15,
   "metadata": {
    "colab": {
     "base_uri": "https://localhost:8080/"
    },
    "id": "4o8te45EHL8V",
    "outputId": "7d781396-4b80-4092-cc97-bf30f049d9a9"
   },
   "outputs": [],
   "source": [
    "def cutoff_checker(extractedDetails, cutoff):\n",
    "    for i in range(len(extractedDetails)):\n",
    "        name = extractedDetails.get(i, {}).get('NAME')\n",
    "        match = extractedDetails.get(i, {}).get('Match')\n",
    "        if match>=cutoff:\n",
    "            ranking[name]=match"
   ]
  },
  {
   "cell_type": "code",
   "execution_count": 16,
   "metadata": {},
   "outputs": [],
   "source": [
    "ranking = {}\n",
    "cutoff_checker(extractedDetails, cutoff)"
   ]
  },
  {
   "cell_type": "code",
   "execution_count": 17,
   "metadata": {},
   "outputs": [
    {
     "data": {
      "text/plain": [
       "{'B ARAVINDA': 50.0,\n",
       " 'Divya shree': 33.3,\n",
       " 'Hashwanth S': 83.3,\n",
       " 'Narendra G': 50.0}"
      ]
     },
     "execution_count": 17,
     "metadata": {},
     "output_type": "execute_result"
    }
   ],
   "source": [
    "ranking"
   ]
  },
  {
   "cell_type": "markdown",
   "metadata": {},
   "source": [
    "### Final shortlisted resume and score"
   ]
  },
  {
   "cell_type": "code",
   "execution_count": 18,
   "metadata": {},
   "outputs": [
    {
     "name": "stdout",
     "output_type": "stream",
     "text": [
      "B ARAVINDA - 50.0\n",
      "Divya shree - 33.3\n",
      "Hashwanth S - 83.3\n",
      "Narendra G - 50.0\n"
     ]
    }
   ],
   "source": [
    "for i in ranking:\n",
    "    print(i,'-',ranking.get(i))"
   ]
  },
  {
   "cell_type": "markdown",
   "metadata": {},
   "source": [
    "## Visualization and evaluation"
   ]
  },
  {
   "cell_type": "code",
   "execution_count": 27,
   "metadata": {
    "id": "w8arseXBEs9u"
   },
   "outputs": [],
   "source": [
    "String = ' '.join([str(elem) for elem in final_token_list])"
   ]
  },
  {
   "cell_type": "markdown",
   "metadata": {},
   "source": [
    "### word cloud for tokens"
   ]
  },
  {
   "cell_type": "code",
   "execution_count": 29,
   "metadata": {
    "id": "XOhO9La6Es9u"
   },
   "outputs": [],
   "source": [
    "def plot_wordcloud(text,max_words=400, max_font_size=120, figure_size=(6.0,4.0), \n",
    "                   title = None, title_size=40, image_color=False):\n",
    "\n",
    "    wordcloud = WordCloud(background_color='white',\n",
    "                    stopwords = stpwords,\n",
    "                    max_words = max_words,\n",
    "                    max_font_size = max_font_size, \n",
    "                    random_state = 42)\n",
    "    wordcloud.generate(text)\n",
    "    \n",
    "    plt.figure(figsize=figure_size)\n",
    "    plt.imshow(wordcloud);\n",
    "    plt.title(title, fontdict={'size': title_size, 'color': 'green', \n",
    "                                  'verticalalignment': 'bottom'})\n",
    "    plt.axis('off');\n",
    "    plt.tight_layout()"
   ]
  },
  {
   "cell_type": "code",
   "execution_count": 30,
   "metadata": {
    "colab": {
     "base_uri": "https://localhost:8080/",
     "height": 257
    },
    "id": "CgbW7BoCEs9v",
    "outputId": "c39798e7-7d9f-471a-b3ff-3b3beb970c1b"
   },
   "outputs": [
    {
     "data": {
      "image/png": "[encoded data removed]",
      "text/plain": [
       "<Figure size 432x288 with 1 Axes>"
      ]
     },
     "metadata": {
      "needs_background": "light"
     },
     "output_type": "display_data"
    }
   ],
   "source": [
    "common_text = String\n",
    "plot_wordcloud(common_text,max_words=80, max_font_size=100, \n",
    "               title = 'TOKENS', title_size=15)"
   ]
  },
  {
   "cell_type": "markdown",
   "metadata": {},
   "source": [
    "### visualizing the resume ranking"
   ]
  },
  {
   "cell_type": "code",
   "execution_count": 21,
   "metadata": {},
   "outputs": [],
   "source": [
    "import pandas as pd\n",
    "import numpy as np\n",
    "import matplotlib.pyplot as plt\n",
    "import seaborn as sns"
   ]
  },
  {
   "cell_type": "code",
   "execution_count": 25,
   "metadata": {},
   "outputs": [
    {
     "data": {
      "text/html": [
       "<div>\n",
       "<style scoped>\n",
       "    .dataframe tbody tr th:only-of-type {\n",
       "        vertical-align: middle;\n",
       "    }\n",
       "\n",
       "    .dataframe tbody tr th {\n",
       "        vertical-align: top;\n",
       "    }\n",
       "\n",
       "    .dataframe thead th {\n",
       "        text-align: right;\n",
       "    }\n",
       "</style>\n",
       "<table border=\"1\" class=\"dataframe\">\n",
       "  <thead>\n",
       "    <tr style=\"text-align: right;\">\n",
       "      <th></th>\n",
       "      <th>Candidates</th>\n",
       "      <th>skill score</th>\n",
       "    </tr>\n",
       "  </thead>\n",
       "  <tbody>\n",
       "    <tr>\n",
       "      <th>0</th>\n",
       "      <td>B ARAVINDA</td>\n",
       "      <td>50.0</td>\n",
       "    </tr>\n",
       "    <tr>\n",
       "      <th>1</th>\n",
       "      <td>Divya shree</td>\n",
       "      <td>33.3</td>\n",
       "    </tr>\n",
       "    <tr>\n",
       "      <th>2</th>\n",
       "      <td>Hashwanth S</td>\n",
       "      <td>83.3</td>\n",
       "    </tr>\n",
       "    <tr>\n",
       "      <th>3</th>\n",
       "      <td>Narendra G</td>\n",
       "      <td>50.0</td>\n",
       "    </tr>\n",
       "  </tbody>\n",
       "</table>\n",
       "</div>"
      ],
      "text/plain": [
       "    Candidates  skill score\n",
       "0   B ARAVINDA         50.0\n",
       "1  Divya shree         33.3\n",
       "2  Hashwanth S         83.3\n",
       "3   Narendra G         50.0"
      ]
     },
     "execution_count": 25,
     "metadata": {},
     "output_type": "execute_result"
    }
   ],
   "source": [
    "df = pd.DataFrame(list(ranking.items()))\n",
    "df.columns = ['Candidates', 'skill score']\n",
    "df"
   ]
  },
  {
   "cell_type": "code",
   "execution_count": 37,
   "metadata": {},
   "outputs": [
    {
     "data": {
      "image/png": "[encoded data removed]",
      "text/plain": [
       "<Figure size 432x288 with 1 Axes>"
      ]
     },
     "metadata": {
      "needs_background": "light"
     },
     "output_type": "display_data"
    }
   ],
   "source": [
    "ax = sns.barplot('skill score','Candidates',data = df, palette=\"viridis\")\n",
    "ax.set(xlabel='Score', ylabel='Candidates')\n",
    "plt.title(\"Candidates vs Score\")\n",
    "plt.show()"
   ]
  },
  {
   "cell_type": "code",
   "execution_count": 40,
   "metadata": {},
   "outputs": [
    {
     "data": {
      "image/png": "[encoded data removed]",
      "text/plain": [
       "<Figure size 432x288 with 1 Axes>"
      ]
     },
     "metadata": {},
     "output_type": "display_data"
    }
   ],
   "source": [
    "plt.pie(df['skill score'],labels=df['Candidates'],autopct=\"%.1f%%\",explode=[0.02]*len(df))\n",
    "plt.show()"
   ]
  },
  {
   "cell_type": "markdown",
   "metadata": {},
   "source": [
    "### Model performance"
   ]
  },
  {
   "cell_type": "code",
   "execution_count": 19,
   "metadata": {},
   "outputs": [],
   "source": [
    "mapper = {}\n",
    "max_entity = 0\n",
    "for i in range(len(extractedDetails)):\n",
    "    entity = len(extractedDetails[i])-1\n",
    "    if entity > max_entity:\n",
    "        max_entity = entity\n",
    "    mapper[extractedDetails[i]['NAME']] = entity"
   ]
  },
  {
   "cell_type": "code",
   "execution_count": 22,
   "metadata": {},
   "outputs": [
    {
     "data": {
      "text/html": [
       "<div>\n",
       "<style scoped>\n",
       "    .dataframe tbody tr th:only-of-type {\n",
       "        vertical-align: middle;\n",
       "    }\n",
       "\n",
       "    .dataframe tbody tr th {\n",
       "        vertical-align: top;\n",
       "    }\n",
       "\n",
       "    .dataframe thead th {\n",
       "        text-align: right;\n",
       "    }\n",
       "</style>\n",
       "<table border=\"1\" class=\"dataframe\">\n",
       "  <thead>\n",
       "    <tr style=\"text-align: right;\">\n",
       "      <th></th>\n",
       "      <th>Candidates</th>\n",
       "      <th>Entities Found</th>\n",
       "    </tr>\n",
       "  </thead>\n",
       "  <tbody>\n",
       "    <tr>\n",
       "      <th>0</th>\n",
       "      <td>Alice Clark</td>\n",
       "      <td>6</td>\n",
       "    </tr>\n",
       "    <tr>\n",
       "      <th>1</th>\n",
       "      <td>B ARAVINDA</td>\n",
       "      <td>3</td>\n",
       "    </tr>\n",
       "    <tr>\n",
       "      <th>2</th>\n",
       "      <td>Divya shree</td>\n",
       "      <td>3</td>\n",
       "    </tr>\n",
       "    <tr>\n",
       "      <th>3</th>\n",
       "      <td>Hashwanth S</td>\n",
       "      <td>4</td>\n",
       "    </tr>\n",
       "    <tr>\n",
       "      <th>4</th>\n",
       "      <td>Narendra G</td>\n",
       "      <td>3</td>\n",
       "    </tr>\n",
       "  </tbody>\n",
       "</table>\n",
       "</div>"
      ],
      "text/plain": [
       "    Candidates  Entities Found\n",
       "0  Alice Clark               6\n",
       "1   B ARAVINDA               3\n",
       "2  Divya shree               3\n",
       "3  Hashwanth S               4\n",
       "4   Narendra G               3"
      ]
     },
     "execution_count": 22,
     "metadata": {},
     "output_type": "execute_result"
    }
   ],
   "source": [
    "Entities_df = pd.DataFrame(list(mapper.items()))\n",
    "Entities_df.columns = ['Candidates', 'Entities Found']\n",
    "Entities_df"
   ]
  },
  {
   "cell_type": "code",
   "execution_count": 23,
   "metadata": {},
   "outputs": [
    {
     "name": "stdout",
     "output_type": "stream",
     "text": [
      "Max entities found :  6\n"
     ]
    }
   ],
   "source": [
    "print(\"Max entities found : \",max_entity)"
   ]
  },
  {
   "cell_type": "code",
   "execution_count": 26,
   "metadata": {},
   "outputs": [
    {
     "data": {
      "text/plain": [
       "4"
      ]
     },
     "execution_count": 26,
     "metadata": {},
     "output_type": "execute_result"
    }
   ],
   "source": [
    "import math\n",
    "Avg_entities = sum(Entities_df['Entities Found'])/len(df)\n",
    "math.floor(Avg_entities) "
   ]
  },
  {
   "cell_type": "markdown",
   "metadata": {},
   "source": [
    "#### The model was able to find maximum 6 entities and an average of 4 entities per resume"
   ]
  },
  {
   "cell_type": "markdown",
   "metadata": {},
   "source": [
    "### Summarizer and skills dataframe"
   ]
  },
  {
   "cell_type": "code",
   "execution_count": 27,
   "metadata": {},
   "outputs": [
    {
     "data": {
      "text/plain": [
       "{'Alice Clark': ['Alice Clark',\n",
       "  'Delhi',\n",
       "  'Software Engineer',\n",
       "  'Microsoft',\n",
       "  'Indian Institute of Technology – Mumbai',\n",
       "  []],\n",
       " 'B ARAVINDA': ['B ARAVINDA',\n",
       "  \"B. Tech Student I'm currently pursuing, B. Tech in Computer Science at VIT. Interested in the ﬁeld of Computer Science and Technologies. Enthusiastic Learner in the ﬁeld of Data Science, Web and App Development. aravinda992@gmail.com +919840280874 Chennai\",\n",
       "  ['engineering', 'python', 'html']],\n",
       " 'Divya shree': ['Divya shree', 'Score B.Tech', ['python', 'html']],\n",
       " 'Hashwanth S': ['Hashwanth S',\n",
       "  '+91-8248336430 | hashwanth2002@gmail.com | https://www.linkedin.com/in/stykerhash/ |',\n",
       "  'Institute of Technology',\n",
       "  ['engineering', 'python', 'api', 'html', 'express']],\n",
       " 'Narendra G': ['Narendra G',\n",
       "  'Vellore Institute of Technology, Chennai',\n",
       "  ['engineering', 'python', 'html']]}"
      ]
     },
     "execution_count": 27,
     "metadata": {},
     "output_type": "execute_result"
    }
   ],
   "source": [
    "summarized = {}\n",
    "for i in range(len(extractedDetails)):\n",
    "    each_resume = []\n",
    "    for j in extractedDetails[i]:\n",
    "        if j!='Match':\n",
    "            each_resume.append(extractedDetails[i][j])\n",
    "    summarized[extractedDetails[i]['NAME']] = each_resume\n",
    "summarized"
   ]
  },
  {
   "cell_type": "markdown",
   "metadata": {},
   "source": [
    "### Dataframe of candidates and their skills matched with requirement"
   ]
  },
  {
   "cell_type": "code",
   "execution_count": 28,
   "metadata": {},
   "outputs": [
    {
     "data": {
      "text/html": [
       "<div>\n",
       "<style scoped>\n",
       "    .dataframe tbody tr th:only-of-type {\n",
       "        vertical-align: middle;\n",
       "    }\n",
       "\n",
       "    .dataframe tbody tr th {\n",
       "        vertical-align: top;\n",
       "    }\n",
       "\n",
       "    .dataframe thead th {\n",
       "        text-align: right;\n",
       "    }\n",
       "</style>\n",
       "<table border=\"1\" class=\"dataframe\">\n",
       "  <thead>\n",
       "    <tr style=\"text-align: right;\">\n",
       "      <th></th>\n",
       "      <th>Candidates</th>\n",
       "      <th>Matched Skills</th>\n",
       "    </tr>\n",
       "  </thead>\n",
       "  <tbody>\n",
       "    <tr>\n",
       "      <th>0</th>\n",
       "      <td>Alice Clark</td>\n",
       "      <td>None</td>\n",
       "    </tr>\n",
       "    <tr>\n",
       "      <th>1</th>\n",
       "      <td>B ARAVINDA</td>\n",
       "      <td>engineering,python,html</td>\n",
       "    </tr>\n",
       "    <tr>\n",
       "      <th>2</th>\n",
       "      <td>Divya shree</td>\n",
       "      <td>python,html</td>\n",
       "    </tr>\n",
       "    <tr>\n",
       "      <th>3</th>\n",
       "      <td>Hashwanth S</td>\n",
       "      <td>engineering,python,api,html,express</td>\n",
       "    </tr>\n",
       "    <tr>\n",
       "      <th>4</th>\n",
       "      <td>Narendra G</td>\n",
       "      <td>engineering,python,html</td>\n",
       "    </tr>\n",
       "  </tbody>\n",
       "</table>\n",
       "</div>"
      ],
      "text/plain": [
       "    Candidates                       Matched Skills\n",
       "0  Alice Clark                                 None\n",
       "1   B ARAVINDA              engineering,python,html\n",
       "2  Divya shree                          python,html\n",
       "3  Hashwanth S  engineering,python,api,html,express\n",
       "4   Narendra G              engineering,python,html"
      ]
     },
     "execution_count": 28,
     "metadata": {},
     "output_type": "execute_result"
    }
   ],
   "source": [
    "candidate_skills = {}\n",
    "for i in summarized:\n",
    "    skills = summarized[i][-1]\n",
    "    if skills != []:\n",
    "        candidate_skills[i] = \",\".join(summarized[i][-1])\n",
    "    else:\n",
    "        candidate_skills[i] = 'None'\n",
    "candidate_skills = pd.DataFrame(list(candidate_skills.items()))\n",
    "candidate_skills.columns = ['Candidates', 'Matched Skills']\n",
    "candidate_skills"
   ]
  },
  {
   "cell_type": "markdown",
   "metadata": {},
   "source": [
    "### Summarized resume of input candidate"
   ]
  },
  {
   "cell_type": "code",
   "execution_count": 29,
   "metadata": {},
   "outputs": [
    {
     "name": "stdout",
     "output_type": "stream",
     "text": [
      "B ARAVINDA\n",
      "B ARAVINDA,B. Tech Student I'm currently pursuing, B. Tech in Computer Science at VIT. Interested in the ﬁeld of Computer Science and Technologies. Enthusiastic Learner in the ﬁeld of Data Science, Web and App Development. aravinda992@gmail.com +919840280874 Chennai,['engineering', 'python', 'html'],"
     ]
    }
   ],
   "source": [
    "candidate_name = input()\n",
    "length = len(summarized[candidate_name])\n",
    "candidate_details = []\n",
    "for i in range(length):\n",
    "    candidate_details.append(summarized[candidate_name][i])\n",
    "for text in candidate_details:\n",
    "    print(text, end=',')"
   ]
  },
  {
   "cell_type": "code",
   "execution_count": null,
   "metadata": {},
   "outputs": [],
   "source": []
  }
 ],
 "metadata": {
  "colab": {
   "collapsed_sections": [],
   "name": "code.ipynb",
   "provenance": []
  },
  "kernelspec": {
   "display_name": "Python 3",
   "language": "python",
   "name": "python3"
  },
  "language_info": {
   "codemirror_mode": {
    "name": "ipython",
    "version": 3
   },
   "file_extension": ".py",
   "mimetype": "text/x-python",
   "name": "python",
   "nbconvert_exporter": "python",
   "pygments_lexer": "ipython3",
   "version": "3.7.6"
  }
 },
 "nbformat": 4,
 "nbformat_minor": 1
}
