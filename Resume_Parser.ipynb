{
 "cells": [
  {
   "cell_type": "markdown",
   "metadata": {},
   "source": [
    "## NER based Resume parser and summarizer"
   ]
  },
  {
   "cell_type": "markdown",
   "metadata": {},
   "source": [
    "### Installing the packages"
   ]
  },
  {
   "cell_type": "code",
   "execution_count": 7,
   "metadata": {
    "colab": {
     "base_uri": "https://localhost:8080/"
    },
    "id": "vtjgVlJ3Es9l",
    "outputId": "bbd35489-787d-40c8-b2cc-6f8f7791320f"
   },
   "outputs": [],
   "source": [
    "#!python -m spacy info\n",
    "#!pip install fitz\n",
    "#!pip install PyMuPDF\n",
    "#!pip install wordcloud\n",
    "#!pip install nltk\n",
    "#!pip install PyMuPDF==1.16.14"
   ]
  },
  {
   "cell_type": "markdown",
   "metadata": {},
   "source": [
    "### Importing the packages"
   ]
  },
  {
   "cell_type": "code",
   "execution_count": 1,
   "metadata": {
    "colab": {
     "base_uri": "https://localhost:8080/",
     "height": 35
    },
    "id": "3YDswYTMEs9n",
    "outputId": "337357fb-7396-4f55-ca28-cd8fdab2fd80"
   },
   "outputs": [],
   "source": [
    "import spacy\n",
    "import pickle\n",
    "import random\n",
    "import nltk\n",
    "# nltk.download('stopwords')\n",
    "from nltk.corpus import stopwords\n",
    "import numpy as np\n",
    "from wordcloud import WordCloud\n",
    "import matplotlib.pyplot as plt\n",
    "from PIL import Image\n",
    "from nltk.stem import PorterStemmer\n",
    "nlp_spacy = spacy.load('en_core_web_sm')\n",
    "stpwords = stopwords.words('english')\n",
    "import sys,fitz"
   ]
  },
  {
   "cell_type": "code",
   "execution_count": 3,
   "metadata": {},
   "outputs": [],
   "source": [
    "import math\n",
    "import statistics"
   ]
  },
  {
   "cell_type": "markdown",
   "metadata": {},
   "source": [
    "### Loading the Data"
   ]
  },
  {
   "cell_type": "code",
   "execution_count": 4,
   "metadata": {
    "id": "OgItpjHiEs9o"
   },
   "outputs": [],
   "source": [
    "train_data = pickle.load(open('train_data.pkl', 'rb'))"
   ]
  },
  {
   "cell_type": "markdown",
   "metadata": {},
   "source": [
    "### Training the model"
   ]
  },
  {
   "cell_type": "code",
   "execution_count": null,
   "metadata": {
    "id": "deF4AywmEs9o"
   },
   "outputs": [],
   "source": [
    "nlp = spacy.blank('en')\n",
    "\n",
    "def train_model(train_data):\n",
    "    if 'ner' not in nlp.pipe_names:\n",
    "        ner = nlp.create_pipe('ner')\n",
    "        nlp.add_pipe(ner, last = True)\n",
    "        \n",
    "    for _, annotation in train_data:\n",
    "        for ent in annotation['entities']:\n",
    "            ner.add_label(ent[2])\n",
    "            \n",
    "    other_pipes = [pipe for pipe in nlp.pipe_names if pipe != 'ner']\n",
    "    with nlp.disable_pipes(*other_pipes):\n",
    "        optimizer = nlp.begin_training()\n",
    "        for itn in range(10):\n",
    "            print('Starting iteration ' + str(itn))\n",
    "            random.shuffle(train_data)\n",
    "            losses = {}\n",
    "            index = 0\n",
    "            for text, annotations in train_data:\n",
    "                try:\n",
    "                    nlp.update(\n",
    "                        [text],\n",
    "                        [annotations],\n",
    "                        drop=0.2,\n",
    "                        sgd = optimizer,\n",
    "                        losses = losses)\n",
    "                except Exception as e:\n",
    "                    pass\n",
    "            print(losses)"
   ]
  },
  {
   "cell_type": "code",
   "execution_count": null,
   "metadata": {
    "colab": {
     "base_uri": "https://localhost:8080/"
    },
    "id": "74TBbl7zEs9p",
    "outputId": "c99f3214-cd45-4e0d-fb1f-49f87e3e96e2"
   },
   "outputs": [],
   "source": [
    "train_model(train_data)"
   ]
  },
  {
   "cell_type": "code",
   "execution_count": null,
   "metadata": {
    "id": "2osEgqvkEs9p"
   },
   "outputs": [],
   "source": [
    "nlp.to_disk('nlp_model')"
   ]
  },
  {
   "cell_type": "markdown",
   "metadata": {},
   "source": [
    "### Loading the train model"
   ]
  },
  {
   "cell_type": "code",
   "execution_count": 5,
   "metadata": {
    "id": "M3UpHnVfEs9p"
   },
   "outputs": [],
   "source": [
    "nlp_model = spacy.load('nlp_model')"
   ]
  },
  {
   "cell_type": "markdown",
   "metadata": {},
   "source": [
    "### PDF to text convert function"
   ]
  },
  {
   "cell_type": "code",
   "execution_count": 6,
   "metadata": {
    "colab": {
     "base_uri": "https://localhost:8080/"
    },
    "id": "2_XHGRBREs9p",
    "outputId": "acedd8db-565d-4112-dba0-6f6ed1e09d90"
   },
   "outputs": [],
   "source": [
    "def pdf2text(input_resume):\n",
    "    doc = fitz.open(input_resume)\n",
    "    text = \"\"\n",
    "    for page in doc:\n",
    "        text = text+ str(page.getText())\n",
    "    tx = \" \".join(text.split('\\n'))\n",
    "    return tx"
   ]
  },
  {
   "cell_type": "markdown",
   "metadata": {},
   "source": [
    "### Comparing Skills and skill score function"
   ]
  },
  {
   "cell_type": "code",
   "execution_count": 7,
   "metadata": {},
   "outputs": [],
   "source": [
    "def candidateOnlyUniMatching(required_skills,updated_tokens_list):\n",
    "    list_skills = required_skills.lower().split(\",\")\n",
    "    found_skills_each_resume = []\n",
    "    score = 0\n",
    "    for x in list_skills:\n",
    "        l = [w for w in x.split()]\n",
    "        li = []\n",
    "        t = tuple(l)\n",
    "        li.append(t)\n",
    "        if x in updated_tokens_list:\n",
    "            score += 1\n",
    "            found_skills_each_resume.append(x)\n",
    "\n",
    "    req_skills_len = len(list_skills)\n",
    "    match = round(score / req_skills_len * 100, 1)\n",
    "    \n",
    "    return found_skills_each_resume,match"
   ]
  },
  {
   "cell_type": "code",
   "execution_count": 8,
   "metadata": {},
   "outputs": [],
   "source": [
    "def candidateMatching(required_skills,updated_tokens_list,bigrams):\n",
    "    list_skills = required_skills.lower().split(\",\")\n",
    "    found_skills_each_resume = []\n",
    "    score = 0\n",
    "    for x in list_skills:\n",
    "        if len(x.split()) > 1:\n",
    "            l = [w for w in x.split()]\n",
    "            li = []\n",
    "            t = tuple(l)\n",
    "            li.append(t)\n",
    "            if li[0] in bigrams:\n",
    "                score+=1\n",
    "                found_skills_each_resume.append(' '.join(l))\n",
    "        else:\n",
    "            if x in updated_tokens_list:\n",
    "                score += 1\n",
    "                found_skills_each_resume.append(x)\n",
    "\n",
    "    req_skills_len = len(list_skills)\n",
    "    match = round(score / req_skills_len * 100, 1)\n",
    "    \n",
    "    return found_skills_each_resume,match"
   ]
  },
  {
   "cell_type": "markdown",
   "metadata": {},
   "source": [
    "### Bi-grams"
   ]
  },
  {
   "cell_type": "code",
   "execution_count": 9,
   "metadata": {},
   "outputs": [],
   "source": [
    "def bigramGenerator(text):\n",
    "    list = []\n",
    "    list.append(text.lower())\n",
    "    bigrams = [b for l in list for b in zip(l.split(\" \")[:-1], l.split(\" \")[1:])]\n",
    "    return bigrams"
   ]
  },
  {
   "cell_type": "markdown",
   "metadata": {},
   "source": [
    "### Porter stemmer function for stemming "
   ]
  },
  {
   "cell_type": "code",
   "execution_count": 10,
   "metadata": {},
   "outputs": [],
   "source": [
    "def stemming_tokenizer(tokens_list):\n",
    "    rootWord = []\n",
    "    tokens = [x.lower() for xs in tokens_list for x in xs.split(',')]\n",
    "    ps = PorterStemmer()\n",
    "    for w in tokens_list:\n",
    "        if w not in stpwords:\n",
    "            rootWord.append(ps.stem(w))\n",
    "    return rootWord"
   ]
  },
  {
   "cell_type": "markdown",
   "metadata": {},
   "source": [
    "### Lemmatization function"
   ]
  },
  {
   "cell_type": "code",
   "execution_count": 11,
   "metadata": {},
   "outputs": [],
   "source": [
    "def lemma_tokenizer(tokens_list):\n",
    "    rootWord = []\n",
    "    for token in tokens_list:\n",
    "        if token.lemma_ not in stpwords:\n",
    "            rootWord.append(token.lemma_)\n",
    "    return [x.lower() for xs in rootWord for x in xs.split(',')]"
   ]
  },
  {
   "cell_type": "markdown",
   "metadata": {},
   "source": [
    "### Entity extraction function"
   ]
  },
  {
   "cell_type": "code",
   "execution_count": 12,
   "metadata": {},
   "outputs": [],
   "source": [
    "def entity_extraction(resume, required_skills):\n",
    "    test=pdf2text(resume)\n",
    "    doc = nlp_model(test)\n",
    "    l=[]\n",
    "    s=[]\n",
    "    x={}\n",
    "    y={}\n",
    "    for ent in doc.ents:\n",
    "        if ent.label_.upper() not in l:\n",
    "            l.append(ent.label_.upper())\n",
    "            print(f'{ent.label_.upper():{30}}- {ent.text}')\n",
    "            x[ent.label_.upper()]=ent.text\n",
    "            y[ent.label_.upper()]=ent.text\n",
    "        text_list=[test]\n",
    "        tokens_list=' '.join(text_list).split()\n",
    "        \n",
    "#     updated_tokens_list= [x.lower() for xs in tokens_list for x in xs.split(',')]\n",
    "#     updated_tokens_list= stemming_tokenizer(tokens_list)\n",
    "    updated_tokens_list=lemma_tokenizer(doc)\n",
    "    final_token_list.extend(updated_tokens_list)\n",
    "    bigrams.extend(bigramGenerator(test))\n",
    "    x['Skills'],x['Match']=candidateMatching(required_skills,updated_tokens_list,bigrams)\n",
    "    y['Skills'],y['Match']=candidateOnlyUniMatching(required_skills,updated_tokens_list)\n",
    "    extractedDetails[i]=x\n",
    "    extractedDetailsUni[i]=y"
   ]
  },
  {
   "cell_type": "code",
   "execution_count": 13,
   "metadata": {},
   "outputs": [],
   "source": [
    "extractedDetails={} \n",
    "extractedDetailsUni={} \n",
    "final_token_list=[]\n",
    "found_skills = {}\n",
    "bigrams=[]"
   ]
  },
  {
   "cell_type": "markdown",
   "metadata": {},
   "source": [
    "### Adding resume documents path"
   ]
  },
  {
   "cell_type": "code",
   "execution_count": 14,
   "metadata": {},
   "outputs": [
    {
     "name": "stdout",
     "output_type": "stream",
     "text": [
      "['E:/Book 3/SEMESTER 5/CSE4022 - NATURAL LANGUAGE PROCESSING/J COMP/resumes\\\\Alice Clark CV.pdf', 'E:/Book 3/SEMESTER 5/CSE4022 - NATURAL LANGUAGE PROCESSING/J COMP/resumes\\\\ara.pdf', 'E:/Book 3/SEMESTER 5/CSE4022 - NATURAL LANGUAGE PROCESSING/J COMP/resumes\\\\dd.pdf', 'E:/Book 3/SEMESTER 5/CSE4022 - NATURAL LANGUAGE PROCESSING/J COMP/resumes\\\\Hash.pdf', 'E:/Book 3/SEMESTER 5/CSE4022 - NATURAL LANGUAGE PROCESSING/J COMP/resumes\\\\Narendra.pdf']\n"
     ]
    }
   ],
   "source": [
    "import os\n",
    "path = \"E:/Book 3/SEMESTER 5/CSE4022 - NATURAL LANGUAGE PROCESSING/J COMP/resumes\"\n",
    "  \n",
    "os.chdir(path)\n",
    "file_path=[]\n",
    "for file in os.listdir():\n",
    "    file_path.append(f\"{path}\\{file}\")\n",
    "print(file_path)"
   ]
  },
  {
   "cell_type": "markdown",
   "metadata": {},
   "source": [
    "### Defining requirement skills and cutoff"
   ]
  },
  {
   "cell_type": "code",
   "execution_count": 16,
   "metadata": {},
   "outputs": [],
   "source": [
    "skill_set='engineering,python,NLP,API,HTML,express,Machine learning'\n",
    "cutoff = 25.0"
   ]
  },
  {
   "cell_type": "markdown",
   "metadata": {},
   "source": [
    "### Calling the entity extraction function "
   ]
  },
  {
   "cell_type": "code",
   "execution_count": 17,
   "metadata": {},
   "outputs": [
    {
     "name": "stdout",
     "output_type": "stream",
     "text": [
      "NAME                          - Alice Clark\n",
      "LOCATION                      - Delhi\n",
      "DESIGNATION                   - Software Engineer\n",
      "COMPANIES WORKED AT           - Microsoft\n",
      "DEGREE                        - Indian Institute of Technology – Mumbai\n",
      "NAME                          - B ARAVINDA\n",
      "DEGREE                        - B. Tech Student I'm currently pursuing, B. Tech in Computer Science at VIT. Interested in the ﬁeld of Computer Science and Technologies. Enthusiastic Learner in the ﬁeld of Data Science, Web and App Development. aravinda992@gmail.com +919840280874 Chennai\n",
      "NAME                          - Divya shree\n",
      "DESIGNATION                   - Score B.Tech\n",
      "NAME                          - Hashwanth S\n",
      "DESIGNATION                   - +91-8248336430 | hashwanth2002@gmail.com | https://www.linkedin.com/in/stykerhash/ |\n",
      "DEGREE                        - Institute of Technology\n",
      "NAME                          - Narendra G\n",
      "COLLEGE NAME                  - Vellore Institute of Technology, Chennai\n"
     ]
    }
   ],
   "source": [
    "for i in range(len(file_path)):\n",
    "    entity_extraction(file_path[i],skill_set)"
   ]
  },
  {
   "cell_type": "markdown",
   "metadata": {},
   "source": [
    "### Bi gram chunks"
   ]
  },
  {
   "cell_type": "code",
   "execution_count": 18,
   "metadata": {},
   "outputs": [
    {
     "data": {
      "text/plain": [
       "[('alice', 'clark'),\n",
       " ('clark', ''),\n",
       " ('', 'ai'),\n",
       " ('ai', '/'),\n",
       " ('/', 'machine'),\n",
       " ('machine', 'learning'),\n",
       " ('learning', ''),\n",
       " ('', ''),\n",
       " ('', ''),\n",
       " ('', 'delhi,'),\n",
       " ('delhi,', 'india'),\n",
       " ('india', 'email'),\n",
       " ('email', 'me'),\n",
       " ('me', 'on'),\n",
       " ('on', 'indeed'),\n",
       " ('indeed', ''),\n",
       " ('', '•'),\n",
       " ('•', ''),\n",
       " ('', '20+'),\n",
       " ('20+', 'years'),\n",
       " ('years', 'of'),\n",
       " ('of', 'experience'),\n",
       " ('experience', 'in'),\n",
       " ('in', 'data'),\n",
       " ('data', 'handling,'),\n",
       " ('handling,', 'design,'),\n",
       " ('design,', 'and'),\n",
       " ('and', 'development'),\n",
       " ('development', ''),\n",
       " ('', '•'),\n",
       " ('•', ''),\n",
       " ('', 'data'),\n",
       " ('data', 'warehouse:'),\n",
       " ('warehouse:', 'data'),\n",
       " ('data', 'analysis,'),\n",
       " ('analysis,', 'star/snow'),\n",
       " ('star/snow', 'flake'),\n",
       " ('flake', 'scema'),\n",
       " ('scema', 'data'),\n",
       " ('data', 'modelling'),\n",
       " ('modelling', 'and'),\n",
       " ('and', 'design'),\n",
       " ('design', 'specific'),\n",
       " ('specific', 'to'),\n",
       " ('to', ''),\n",
       " ('', 'data'),\n",
       " ('data', 'warehousing'),\n",
       " ('warehousing', 'and'),\n",
       " ('and', 'business'),\n",
       " ('business', 'intelligence'),\n",
       " ('intelligence', ''),\n",
       " ('', '•'),\n",
       " ('•', ''),\n",
       " ('', 'database:'),\n",
       " ('database:', 'experience'),\n",
       " ('experience', 'in'),\n",
       " ('in', 'database'),\n",
       " ('database', 'designing,'),\n",
       " ('designing,', 'scalability,'),\n",
       " ('scalability,', 'back-up'),\n",
       " ('back-up', 'and'),\n",
       " ('and', 'recovery,'),\n",
       " ('recovery,', 'writing'),\n",
       " ('writing', 'and'),\n",
       " ('and', ''),\n",
       " ('', 'optimizing'),\n",
       " ('optimizing', 'sql'),\n",
       " ('sql', 'code'),\n",
       " ('code', 'and'),\n",
       " ('and', 'stored'),\n",
       " ('stored', 'procedures,'),\n",
       " ('procedures,', 'creating'),\n",
       " ('creating', 'functions,'),\n",
       " ('functions,', 'views,'),\n",
       " ('views,', 'triggers'),\n",
       " ('triggers', 'and'),\n",
       " ('and', 'indexes.'),\n",
       " ('indexes.', ''),\n",
       " ('', 'cloud'),\n",
       " ('cloud', 'platform:'),\n",
       " ('platform:', 'worked'),\n",
       " ('worked', 'on'),\n",
       " ('on', 'microsoft'),\n",
       " ('microsoft', 'azure'),\n",
       " ('azure', 'cloud'),\n",
       " ('cloud', 'services'),\n",
       " ('services', 'like'),\n",
       " ('like', 'document'),\n",
       " ('document', 'db,'),\n",
       " ('db,', 'sql'),\n",
       " ('sql', 'azure,'),\n",
       " ('azure,', ''),\n",
       " ('', 'stream'),\n",
       " ('stream', 'analytics,'),\n",
       " ('analytics,', 'event'),\n",
       " ('event', 'hub,'),\n",
       " ('hub,', 'power'),\n",
       " ('power', 'bi,'),\n",
       " ('bi,', 'web'),\n",
       " ('web', 'job,'),\n",
       " ('job,', 'web'),\n",
       " ('web', 'app,'),\n",
       " ('app,', 'power'),\n",
       " ('power', 'bi,'),\n",
       " ('bi,', 'azure'),\n",
       " ('azure', 'data'),\n",
       " ('data', 'lake'),\n",
       " ('lake', ''),\n",
       " ('', 'analytics(u-sql)'),\n",
       " ('analytics(u-sql)', ''),\n",
       " ('', 'willing'),\n",
       " ('willing', 'to'),\n",
       " ('to', 'relocate'),\n",
       " ('relocate', 'anywhere'),\n",
       " ('anywhere', ''),\n",
       " ('', ''),\n",
       " ('', ''),\n",
       " ('', 'work'),\n",
       " ('work', 'experience'),\n",
       " ('experience', ''),\n",
       " ('', 'software'),\n",
       " ('software', 'engineer'),\n",
       " ('engineer', ''),\n",
       " ('', 'microsoft'),\n",
       " ('microsoft', '–'),\n",
       " ('–', 'bangalore,'),\n",
       " ('bangalore,', 'karnataka'),\n",
       " ('karnataka', ''),\n",
       " ('', 'january'),\n",
       " ('january', '2000'),\n",
       " ('2000', 'to'),\n",
       " ('to', 'present'),\n",
       " ('present', ''),\n",
       " ('', '1.'),\n",
       " ('1.', 'microsoft'),\n",
       " ('microsoft', 'rewards'),\n",
       " ('rewards', 'live'),\n",
       " ('live', 'dashboards:'),\n",
       " ('dashboards:', ''),\n",
       " ('', 'description:'),\n",
       " ('description:', '-'),\n",
       " ('-', 'microsoft'),\n",
       " ('microsoft', 'rewards'),\n",
       " ('rewards', 'is'),\n",
       " ('is', 'loyalty'),\n",
       " ('loyalty', 'program'),\n",
       " ('program', 'that'),\n",
       " ('that', 'rewards'),\n",
       " ('rewards', 'users'),\n",
       " ('users', 'for'),\n",
       " ('for', 'browsing'),\n",
       " ('browsing', 'and'),\n",
       " ('and', 'shopping'),\n",
       " ('shopping', ''),\n",
       " ('', 'online.'),\n",
       " ('online.', 'microsoft'),\n",
       " ('microsoft', 'rewards'),\n",
       " ('rewards', 'members'),\n",
       " ('members', 'can'),\n",
       " ('can', 'earn'),\n",
       " ('earn', 'points'),\n",
       " ('points', 'when'),\n",
       " ('when', 'searching'),\n",
       " ('searching', 'with'),\n",
       " ('with', 'bing,'),\n",
       " ('bing,', 'browsing'),\n",
       " ('browsing', 'with'),\n",
       " ('with', ''),\n",
       " ('', 'microsoft'),\n",
       " ('microsoft', 'edge'),\n",
       " ('edge', 'and'),\n",
       " ('and', 'making'),\n",
       " ('making', 'purchases'),\n",
       " ('purchases', 'at'),\n",
       " ('at', 'the'),\n",
       " ('the', 'xbox'),\n",
       " ('xbox', 'store,'),\n",
       " ('store,', 'the'),\n",
       " ('the', 'windows'),\n",
       " ('windows', 'store'),\n",
       " ('store', 'and'),\n",
       " ('and', 'the'),\n",
       " ('the', 'microsoft'),\n",
       " ('microsoft', ''),\n",
       " ('', 'store.'),\n",
       " ('store.', 'plus,'),\n",
       " ('plus,', 'user'),\n",
       " ('user', 'can'),\n",
       " ('can', 'pick'),\n",
       " ('pick', 'up'),\n",
       " ('up', 'bonus'),\n",
       " ('bonus', 'points'),\n",
       " ('points', 'for'),\n",
       " ('for', 'taking'),\n",
       " ('taking', 'daily'),\n",
       " ('daily', 'quizzes'),\n",
       " ('quizzes', 'and'),\n",
       " ('and', 'tours'),\n",
       " ('tours', 'on'),\n",
       " ('on', 'the'),\n",
       " ('the', 'microsoft'),\n",
       " ('microsoft', ''),\n",
       " ('', 'rewards'),\n",
       " ('rewards', 'website.'),\n",
       " ('website.', 'rewards'),\n",
       " ('rewards', 'live'),\n",
       " ('live', 'dashboards'),\n",
       " ('dashboards', 'gives'),\n",
       " ('gives', 'a'),\n",
       " ('a', 'live'),\n",
       " ('live', 'picture'),\n",
       " ('picture', 'of'),\n",
       " ('of', 'usage'),\n",
       " ('usage', 'world-wide'),\n",
       " ('world-wide', 'and'),\n",
       " ('and', 'by'),\n",
       " ('by', ''),\n",
       " ('', 'markets'),\n",
       " ('markets', 'like'),\n",
       " ('like', 'us,'),\n",
       " ('us,', 'canada,'),\n",
       " ('canada,', 'australia,'),\n",
       " ('australia,', 'new'),\n",
       " ('new', 'user'),\n",
       " ('user', 'registration'),\n",
       " ('registration', 'count,'),\n",
       " ('count,', 'top/bottom'),\n",
       " ('top/bottom', 'performing'),\n",
       " ('performing', 'rewards'),\n",
       " ('rewards', ''),\n",
       " ('', 'offers,'),\n",
       " ('offers,', 'orders'),\n",
       " ('orders', 'stats'),\n",
       " ('stats', 'and'),\n",
       " ('and', 'weekly'),\n",
       " ('weekly', 'trends'),\n",
       " ('trends', 'of'),\n",
       " ('of', 'user'),\n",
       " ('user', 'activities,'),\n",
       " ('activities,', 'orders'),\n",
       " ('orders', 'and'),\n",
       " ('and', 'new'),\n",
       " ('new', 'user'),\n",
       " ('user', 'registrations.'),\n",
       " ('registrations.', 'the'),\n",
       " ('the', ''),\n",
       " ('', 'pbi'),\n",
       " ('pbi', 'tiles'),\n",
       " ('tiles', 'gets'),\n",
       " ('gets', 'refreshed'),\n",
       " ('refreshed', 'in'),\n",
       " ('in', 'different'),\n",
       " ('different', 'frequencies'),\n",
       " ('frequencies', 'starting'),\n",
       " ('starting', 'from'),\n",
       " ('from', '5'),\n",
       " ('5', 'seconds'),\n",
       " ('seconds', 'to'),\n",
       " ('to', '30'),\n",
       " ('30', 'minutes.'),\n",
       " ('minutes.', ''),\n",
       " ('', 'technology/tools'),\n",
       " ('technology/tools', 'used'),\n",
       " ('used', ''),\n",
       " ('', ''),\n",
       " ('', ''),\n",
       " ('', 'education'),\n",
       " ('education', ''),\n",
       " ('', 'indian'),\n",
       " ('indian', 'institute'),\n",
       " ('institute', 'of'),\n",
       " ('of', 'technology'),\n",
       " ('technology', '–'),\n",
       " ('–', 'mumbai'),\n",
       " ('mumbai', ''),\n",
       " ('', '2001'),\n",
       " ('2001', ''),\n",
       " ('', ''),\n",
       " ('', ''),\n",
       " ('', 'skills'),\n",
       " ('skills', ''),\n",
       " ('', 'machine'),\n",
       " ('machine', 'learning,'),\n",
       " ('learning,', 'natural'),\n",
       " ('natural', 'language'),\n",
       " ('language', 'processing,'),\n",
       " ('processing,', 'and'),\n",
       " ('and', 'big'),\n",
       " ('big', 'data'),\n",
       " ('data', 'handling'),\n",
       " ('handling', ''),\n",
       " ('', ''),\n",
       " ('', ''),\n",
       " ('', 'additional'),\n",
       " ('additional', 'information'),\n",
       " ('information', ''),\n",
       " ('', 'professional'),\n",
       " ('professional', 'skills'),\n",
       " ('skills', ''),\n",
       " ('', '•'),\n",
       " ('•', 'excellent'),\n",
       " ('excellent', 'analytical,'),\n",
       " ('analytical,', 'problem'),\n",
       " ('problem', 'solving,'),\n",
       " ('solving,', 'communication,'),\n",
       " ('communication,', 'knowledge'),\n",
       " ('knowledge', 'transfer'),\n",
       " ('transfer', 'and'),\n",
       " ('and', 'interpersonal'),\n",
       " ('interpersonal', ''),\n",
       " ('', 'skills'),\n",
       " ('skills', 'with'),\n",
       " ('with', 'ability'),\n",
       " ('ability', 'to'),\n",
       " ('to', 'interact'),\n",
       " ('interact', 'with'),\n",
       " ('with', 'individuals'),\n",
       " ('individuals', 'at'),\n",
       " ('at', 'all'),\n",
       " ('all', 'the'),\n",
       " ('the', 'levels'),\n",
       " ('levels', ''),\n",
       " ('', '•'),\n",
       " ('•', 'quick'),\n",
       " ('quick', 'learner'),\n",
       " ('learner', 'and'),\n",
       " ('and', 'maintains'),\n",
       " ('maintains', 'cordial'),\n",
       " ('cordial', 'relationship'),\n",
       " ('relationship', 'with'),\n",
       " ('with', 'project'),\n",
       " ('project', 'manager'),\n",
       " ('manager', 'and'),\n",
       " ('and', 'team'),\n",
       " ('team', 'members'),\n",
       " ('members', 'and'),\n",
       " ('and', ''),\n",
       " ('', 'good'),\n",
       " ('good', 'performer'),\n",
       " ('performer', 'both'),\n",
       " ('both', 'in'),\n",
       " ('in', 'team'),\n",
       " ('team', 'and'),\n",
       " ('and', 'independent'),\n",
       " ('independent', 'job'),\n",
       " ('job', 'environments'),\n",
       " ('environments', ''),\n",
       " ('', '•'),\n",
       " ('•', 'positive'),\n",
       " ('positive', 'attitude'),\n",
       " ('attitude', 'towards'),\n",
       " ('towards', 'superiors'),\n",
       " ('superiors', '&amp;'),\n",
       " ('&amp;', 'peers'),\n",
       " ('peers', ''),\n",
       " ('', '•'),\n",
       " ('•', 'supervised'),\n",
       " ('supervised', 'junior'),\n",
       " ('junior', 'developers'),\n",
       " ('developers', 'throughout'),\n",
       " ('throughout', 'project'),\n",
       " ('project', 'lifecycle'),\n",
       " ('lifecycle', 'and'),\n",
       " ('and', 'provided'),\n",
       " ('provided', 'technical'),\n",
       " ('technical', 'assistance'),\n",
       " ('assistance', ''),\n",
       " ('', ''),\n",
       " ('b', 'aravinda'),\n",
       " ('aravinda', 'b.'),\n",
       " ('b.', 'tech'),\n",
       " ('tech', 'student'),\n",
       " ('student', \"i'm\"),\n",
       " (\"i'm\", 'currently'),\n",
       " ('currently', 'pursuing,'),\n",
       " ('pursuing,', 'b.'),\n",
       " ('b.', 'tech'),\n",
       " ('tech', 'in'),\n",
       " ('in', 'computer'),\n",
       " ('computer', 'science'),\n",
       " ('science', 'at'),\n",
       " ('at', 'vit.'),\n",
       " ('vit.', 'interested'),\n",
       " ('interested', 'in'),\n",
       " ('in', 'the'),\n",
       " ('the', 'ﬁeld'),\n",
       " ('ﬁeld', 'of'),\n",
       " ('of', 'computer'),\n",
       " ('computer', 'science'),\n",
       " ('science', 'and'),\n",
       " ('and', 'technologies.'),\n",
       " ('technologies.', 'enthusiastic'),\n",
       " ('enthusiastic', 'learner'),\n",
       " ('learner', 'in'),\n",
       " ('in', 'the'),\n",
       " ('the', 'ﬁeld'),\n",
       " ('ﬁeld', 'of'),\n",
       " ('of', 'data'),\n",
       " ('data', 'science,'),\n",
       " ('science,', 'web'),\n",
       " ('web', 'and'),\n",
       " ('and', 'app'),\n",
       " ('app', 'development.'),\n",
       " ('development.', 'aravinda992@gmail.com'),\n",
       " ('aravinda992@gmail.com', '+919840280874'),\n",
       " ('+919840280874', 'chennai,'),\n",
       " ('chennai,', 'india'),\n",
       " ('india', 'linkedin.com/in/aravinda-boovaraghavan-341185191'),\n",
       " ('linkedin.com/in/aravinda-boovaraghavan-341185191',\n",
       "  'github.com/aravinda214'),\n",
       " ('github.com/aravinda214', 'education'),\n",
       " ('education', 'all'),\n",
       " ('all', 'india'),\n",
       " ('india', 'secondary'),\n",
       " ('secondary', 'school'),\n",
       " ('school', 'examination(aisse)'),\n",
       " ('examination(aisse)', 'sboa'),\n",
       " ('sboa', 'school'),\n",
       " ('school', 'and'),\n",
       " ('and', 'junior'),\n",
       " ('junior', 'college'),\n",
       " ('college', '05/2005'),\n",
       " ('05/2005', '-'),\n",
       " ('-', '06/2017,'),\n",
       " ('06/2017,', ''),\n",
       " ('', 'chennai,india,cgpa:-9.8'),\n",
       " ('chennai,india,cgpa:-9.8', 'all'),\n",
       " ('all', 'india'),\n",
       " ('india', 'senior'),\n",
       " ('senior', 'school'),\n",
       " ('school', 'certiﬁcate(aissce)'),\n",
       " ('certiﬁcate(aissce)', 'sboa'),\n",
       " ('sboa', 'school'),\n",
       " ('school', 'and'),\n",
       " ('and', 'junior'),\n",
       " ('junior', 'college'),\n",
       " ('college', '08/2017'),\n",
       " ('08/2017', '-'),\n",
       " ('-', '05/2019,'),\n",
       " ('05/2019,', ''),\n",
       " ('', 'chennai,india,percentage:-77.6%'),\n",
       " ('chennai,india,percentage:-77.6%', 'computer'),\n",
       " ('computer', 'science'),\n",
       " ('science', 'b.tech'),\n",
       " ('b.tech', 'in'),\n",
       " ('in', 'computer'),\n",
       " ('computer', 'science'),\n",
       " ('science', 'and'),\n",
       " ('and', 'engineering'),\n",
       " ('engineering', 'vellore'),\n",
       " ('vellore', 'institute'),\n",
       " ('institute', 'of'),\n",
       " ('of', 'technology'),\n",
       " ('technology', '07/2019'),\n",
       " ('07/2019', '-'),\n",
       " ('-', 'present,'),\n",
       " ('present,', ''),\n",
       " ('', 'chennai,india,cgpa:-7.66'),\n",
       " ('chennai,india,cgpa:-7.66', 'work'),\n",
       " ('work', 'experience'),\n",
       " ('experience', 'data'),\n",
       " ('data', 'science'),\n",
       " ('science', 'analytics'),\n",
       " ('analytics', 'intern'),\n",
       " ('intern', 'the'),\n",
       " ('the', 'sparks'),\n",
       " ('sparks', 'foundation'),\n",
       " ('foundation', '07/2021'),\n",
       " ('07/2021', '-'),\n",
       " ('-', '08/2021,'),\n",
       " ('08/2021,', ''),\n",
       " ('', 'performed'),\n",
       " ('performed', 'exploratory'),\n",
       " ('exploratory', 'data'),\n",
       " ('data', 'analysis'),\n",
       " ('analysis', 'on'),\n",
       " ('on', 'the'),\n",
       " ('the', 'dataset'),\n",
       " ('dataset', '‘global'),\n",
       " ('‘global', 'terrorism’.'),\n",
       " ('terrorism’.', 'data'),\n",
       " ('data', 'analysis'),\n",
       " ('analysis', 'was'),\n",
       " ('was', 'performed'),\n",
       " ('performed', 'using'),\n",
       " ('using', 'python'),\n",
       " ('python', 'and'),\n",
       " ('and', 'visualization'),\n",
       " ('visualization', 'using'),\n",
       " ('using', 'plotly'),\n",
       " ('plotly', 'library.'),\n",
       " ('library.', 'conclusion'),\n",
       " ('conclusion', 'and'),\n",
       " ('and', 'various'),\n",
       " ('various', 'insights'),\n",
       " ('insights', 'about'),\n",
       " ('about', 'the'),\n",
       " ('the', 'global'),\n",
       " ('global', 'terrorism'),\n",
       " ('terrorism', 'was'),\n",
       " ('was', 'gathered.'),\n",
       " ('gathered.', 'clubs'),\n",
       " ('clubs', '&'),\n",
       " ('&', 'organizations'),\n",
       " ('organizations', '-'),\n",
       " ('-', 'ieee'),\n",
       " ('ieee', 'computer'),\n",
       " ('computer', 'society'),\n",
       " ('society', 'vit'),\n",
       " ('vit', 'chennai'),\n",
       " ('chennai', '(10/2020'),\n",
       " ('(10/2020', '-'),\n",
       " ('-', 'present)'),\n",
       " ('present)', 'content'),\n",
       " ('content', 'writer'),\n",
       " ('writer', 'and'),\n",
       " ('and', 'operations'),\n",
       " ('operations', 'team'),\n",
       " ('team', '-'),\n",
       " ('-', 'hack'),\n",
       " ('hack', 'club'),\n",
       " ('club', 'vit'),\n",
       " ('vit', 'chennai'),\n",
       " ('chennai', '(07/2020'),\n",
       " ('(07/2020', '-'),\n",
       " ('-', 'present)'),\n",
       " ('present)', 'app'),\n",
       " ('app', 'developer'),\n",
       " ('developer', '-'),\n",
       " ('-', 'ieee'),\n",
       " ('ieee', 'robotics'),\n",
       " ('robotics', 'and'),\n",
       " ('and', 'automation'),\n",
       " ('automation', 'society'),\n",
       " ('society', 'vit'),\n",
       " ('vit', 'chennai'),\n",
       " ('chennai', 'student'),\n",
       " ('student', 'chapter'),\n",
       " ('chapter', '(10/2020'),\n",
       " ('(10/2020', '-'),\n",
       " ('-', 'present)'),\n",
       " ('present)', 'member'),\n",
       " ('member', '-'),\n",
       " ('-', 'fraternity'),\n",
       " ('fraternity', 'of'),\n",
       " ('of', 'young'),\n",
       " ('young', 'innovators'),\n",
       " ('innovators', '(10/2020'),\n",
       " ('(10/2020', '-'),\n",
       " ('-', 'present)'),\n",
       " ('present)', 'operations'),\n",
       " ('operations', 'team'),\n",
       " ('team', '-'),\n",
       " ('-', 'code'),\n",
       " ('code', 'y'),\n",
       " ('y', 'gen'),\n",
       " ('gen', 'club'),\n",
       " ('club', 'vit'),\n",
       " ('vit', 'chennai'),\n",
       " ('chennai', '(10/2020'),\n",
       " ('(10/2020', '-'),\n",
       " ('-', '08/2021)'),\n",
       " ('08/2021)', 'member'),\n",
       " ('member', '-'),\n",
       " ('-', 'national'),\n",
       " ('national', 'cadet'),\n",
       " ('cadet', 'crops'),\n",
       " ('crops', '(ncc)'),\n",
       " ('(ncc)', '(07/2014'),\n",
       " ('(07/2014', '-'),\n",
       " ('-', '04/2017)'),\n",
       " ('04/2017)', 'cadet,'),\n",
       " ('cadet,', 'volunteer'),\n",
       " ('volunteer', 'in'),\n",
       " ('in', 'social'),\n",
       " ('social', 'events'),\n",
       " ('events', 'skills'),\n",
       " ('skills', 'c,c++,'),\n",
       " ('c,c++,', 'python,java,javascript'),\n",
       " ('python,java,javascript', 'html,'),\n",
       " ('html,', 'css,'),\n",
       " ('css,', 'bootstrap'),\n",
       " ('bootstrap', 'dbms,'),\n",
       " ('dbms,', 'sql'),\n",
       " ('sql', 'hadoop,'),\n",
       " ('hadoop,', 'pyspark'),\n",
       " ('pyspark', ',flask'),\n",
       " (',flask', 'data'),\n",
       " ('data', 'analytics'),\n",
       " ('analytics', 'machine'),\n",
       " ('machine', 'learning'),\n",
       " ('learning', 'personal'),\n",
       " ('personal', 'projects'),\n",
       " ('projects', 'web'),\n",
       " ('web', 'traﬃc'),\n",
       " ('traﬃc', 'analysis'),\n",
       " ('analysis', 'and'),\n",
       " ('and', 'forecasting'),\n",
       " ('forecasting', '(03/2021'),\n",
       " ('(03/2021', '-'),\n",
       " ('-', '06/2021)'),\n",
       " ('06/2021)', 'the'),\n",
       " ('the', 'objective'),\n",
       " ('objective', 'of'),\n",
       " ('of', 'this'),\n",
       " ('this', 'project'),\n",
       " ('project', 'is'),\n",
       " ('is', 'to'),\n",
       " ('to', 'analyze'),\n",
       " ('analyze', 'the'),\n",
       " ('the', 'web'),\n",
       " ('web', 'traﬃc'),\n",
       " ('traﬃc', 'of'),\n",
       " ('of', 'websites'),\n",
       " ('websites', 'and'),\n",
       " ('and', 'a'),\n",
       " ('a', 'time'),\n",
       " ('time', 'series'),\n",
       " ('series', 'model'),\n",
       " ('model', 'was'),\n",
       " ('was', 'created'),\n",
       " ('created', 'to'),\n",
       " ('to', 'predict'),\n",
       " ('predict', 'the'),\n",
       " ('the', 'visitor'),\n",
       " ('visitor', 'trends.'),\n",
       " ('trends.', 'weather'),\n",
       " ('weather', 'monitoring'),\n",
       " ('monitoring', 'system'),\n",
       " ('system', '(03/2021'),\n",
       " ('(03/2021', '-'),\n",
       " ('-', '06/2021)'),\n",
       " ('06/2021)', 'this'),\n",
       " ('this', 'application'),\n",
       " ('application', 'monitors'),\n",
       " ('monitors', 'the'),\n",
       " ('the', 'temperature'),\n",
       " ('temperature', 'and'),\n",
       " ('and', 'alarm'),\n",
       " ('alarm', 'system'),\n",
       " ('system', 'to'),\n",
       " ('to', 'alert'),\n",
       " ('alert', 'if'),\n",
       " ('if', 'the'),\n",
       " ('the', 'temperature'),\n",
       " ('temperature', 'is'),\n",
       " ('is', 'very'),\n",
       " ('very', 'high.'),\n",
       " ('high.', 'developed'),\n",
       " ('developed', 'using'),\n",
       " ('using', 'arduino'),\n",
       " ('arduino', 'uno'),\n",
       " ('uno', 'in'),\n",
       " ('in', 'tinkercad.'),\n",
       " ('tinkercad.', 'analysis'),\n",
       " ('analysis', 'of'),\n",
       " ('of', 'indian'),\n",
       " ('indian', 'revenues'),\n",
       " ('revenues', 'before'),\n",
       " ('before', 'and'),\n",
       " ('and', 'during'),\n",
       " ('during', \"covid'19\"),\n",
       " (\"covid'19\", ''),\n",
       " ('', '(03/2021'),\n",
       " ('(03/2021', '-'),\n",
       " ('-', '06/2021)'),\n",
       " ('06/2021)', 'analysis'),\n",
       " ('analysis', 'performed'),\n",
       " ('performed', 'to'),\n",
       " ('to', 'see'),\n",
       " ('see', 'the'),\n",
       " ('the', 'impact'),\n",
       " ('impact', 'of'),\n",
       " ('of', 'indian'),\n",
       " ('indian', 'economy'),\n",
       " ('economy', 'during'),\n",
       " ('during', \"covid'19\"),\n",
       " (\"covid'19\", 'prediction'),\n",
       " ('prediction', 'and'),\n",
       " ('and', 'analysis'),\n",
       " ('analysis', 'of'),\n",
       " ('of', 'suicide'),\n",
       " ('suicide', 'rates'),\n",
       " ('rates', 'and'),\n",
       " ('and', 'its'),\n",
       " ('its', 'factors'),\n",
       " ('factors', ''),\n",
       " ('', '(07/2020'),\n",
       " ('(07/2020', '-'),\n",
       " ('-', '10/2020)'),\n",
       " ('10/2020)', 'the'),\n",
       " ('the', 'analysis'),\n",
       " ('analysis', 'and'),\n",
       " ('and', 'prediction'),\n",
       " ('prediction', 'of'),\n",
       " ('of', 'suicide'),\n",
       " ('suicide', 'rates'),\n",
       " ('rates', 'was'),\n",
       " ('was', 'done'),\n",
       " ('done', 'by'),\n",
       " ('by', 'using'),\n",
       " ('using', 'machine'),\n",
       " ('machine', 'learning'),\n",
       " ('learning', 'algorithms'),\n",
       " ('algorithms', 'and'),\n",
       " ('and', 'also'),\n",
       " ('also', 'psychometric'),\n",
       " ('psychometric', 'test'),\n",
       " ('test', 'and'),\n",
       " ('and', 'sentiment'),\n",
       " ('sentiment', 'analyzer'),\n",
       " ('analyzer', 'was'),\n",
       " ('was', 'provided'),\n",
       " ('provided', 'to'),\n",
       " ('to', 'ﬁnd'),\n",
       " ('ﬁnd', 'whether'),\n",
       " ('whether', 'the'),\n",
       " ('the', 'person'),\n",
       " ('person', 'is'),\n",
       " ('is', 'being'),\n",
       " ('being', 'depressed'),\n",
       " ('depressed', 'or'),\n",
       " ('or', 'not.'),\n",
       " ('not.', 'prediction'),\n",
       " ('prediction', 'of'),\n",
       " ('of', 'heart'),\n",
       " ('heart', 'disease'),\n",
       " ('disease', '(12/2019'),\n",
       " ('(12/2019', '-'),\n",
       " ('-', '03/2020)'),\n",
       " ('03/2020)', 'prediction'),\n",
       " ('prediction', 'of'),\n",
       " ('of', 'heart'),\n",
       " ('heart', 'disease'),\n",
       " ('disease', 'was'),\n",
       " ('was', 'performed'),\n",
       " ('performed', 'using'),\n",
       " ('using', 'machine'),\n",
       " ('machine', 'learning'),\n",
       " ('learning', 'algorithms'),\n",
       " ('algorithms', 'and'),\n",
       " ('and', 'comparison'),\n",
       " ('comparison', 'was'),\n",
       " ('was', 'done'),\n",
       " ('done', 'between'),\n",
       " ('between', 'with'),\n",
       " ('with', 'various'),\n",
       " ('various', 'algorithms'),\n",
       " ('algorithms', 'to'),\n",
       " ('to', 'ﬁnd'),\n",
       " ('ﬁnd', 'the'),\n",
       " ('the', 'best'),\n",
       " ('best', 'results.'),\n",
       " ('results.', 'pizza'),\n",
       " ('pizza', 'shop'),\n",
       " ('shop', 'application'),\n",
       " ('application', '(08/2018'),\n",
       " ('(08/2018', '-'),\n",
       " ('-', '12/2018)'),\n",
       " ('12/2018)', 'this'),\n",
       " ('this', 'application'),\n",
       " ('application', 'was'),\n",
       " ('was', 'developed'),\n",
       " ('developed', 'to'),\n",
       " ('to', 'order'),\n",
       " ('order', 'pizza'),\n",
       " ('pizza', 'and'),\n",
       " ('and', 'generate'),\n",
       " ('generate', 'bill,'),\n",
       " ('bill,', 'it'),\n",
       " ('it', 'uses'),\n",
       " ('uses', 'ﬁles'),\n",
       " ('ﬁles', 'to'),\n",
       " ('to', 'store'),\n",
       " ('store', 'records.'),\n",
       " ('records.', 'developed'),\n",
       " ('developed', 'using'),\n",
       " ('using', 'c++.'),\n",
       " ('c++.', 'certificates'),\n",
       " ('certificates', '-'),\n",
       " ('-', 'artiﬁcial'),\n",
       " ('artiﬁcial', 'intelligence'),\n",
       " ('intelligence', 'foundation-'),\n",
       " ('foundation-', 'nasscom'),\n",
       " ('nasscom', '(08/2021)'),\n",
       " ('(08/2021)', '-'),\n",
       " ('-', 'using'),\n",
       " ('using', 'python'),\n",
       " ('python', 'to'),\n",
       " ('to', 'access'),\n",
       " ('access', 'web'),\n",
       " ('web', 'data-'),\n",
       " ('data-', 'coursera'),\n",
       " ('coursera', '(07/2020)'),\n",
       " ('(07/2020)', '-'),\n",
       " ('-', 'machine'),\n",
       " ('machine', 'learning'),\n",
       " ('learning', 'using'),\n",
       " ('using', 'python'),\n",
       " ('python', '-'),\n",
       " ('-', 'vitol'),\n",
       " ('vitol', 'course'),\n",
       " ('course', '(06/2020)'),\n",
       " ('(06/2020)', '-'),\n",
       " ('-', 'introduction'),\n",
       " ('introduction', 'to'),\n",
       " ('to', 'statistics'),\n",
       " ('statistics', '&'),\n",
       " ('&', 'data'),\n",
       " ('data', 'analysis'),\n",
       " ('analysis', 'in'),\n",
       " ('in', 'public'),\n",
       " ('public', 'health'),\n",
       " ('health', ''),\n",
       " ('', '(06/2020)'),\n",
       " ('(06/2020)', '-'),\n",
       " ('-', 'using'),\n",
       " ('using', 'databases'),\n",
       " ('databases', 'with'),\n",
       " ('with', 'python-'),\n",
       " ('python-', 'coursera'),\n",
       " ('coursera', '(05/2020)'),\n",
       " ('(05/2020)', 'achievements'),\n",
       " ('achievements', '-'),\n",
       " ('-', 'won'),\n",
       " ('won', 'the'),\n",
       " ('the', 'arch-a-thon'),\n",
       " ('arch-a-thon', 'event'),\n",
       " ('event', 'conducted'),\n",
       " ('conducted', 'by'),\n",
       " ('by', 'the'),\n",
       " ('the', 'vit'),\n",
       " ('vit', 'chennai'),\n",
       " ('chennai', 'for'),\n",
       " ('for', 'the'),\n",
       " ('the', 'category'),\n",
       " ('category', '“most'),\n",
       " ('“most', 'nominated”'),\n",
       " ('nominated”', '(09/2020)'),\n",
       " ('(09/2020)', '-'),\n",
       " ('-', 'overall'),\n",
       " ('overall', 'school'),\n",
       " ('school', '3rd'),\n",
       " ('3rd', 'in'),\n",
       " ('in', 'international'),\n",
       " ('international', 'science'),\n",
       " ('science', 'olympiad'),\n",
       " ('olympiad', ''),\n",
       " ('', '(01/2018)'),\n",
       " ('(01/2018)', 'languages'),\n",
       " ('languages', 'english'),\n",
       " ('english', 'professional'),\n",
       " ('professional', 'working'),\n",
       " ('working', 'proﬁciency'),\n",
       " ('proﬁciency', 'telugu'),\n",
       " ('telugu', 'native'),\n",
       " ('native', 'or'),\n",
       " ('or', 'bilingual'),\n",
       " ('bilingual', 'proﬁciency'),\n",
       " ('proﬁciency', 'tamil'),\n",
       " ('tamil', 'full'),\n",
       " ('full', 'professional'),\n",
       " ('professional', 'proﬁciency'),\n",
       " ('proﬁciency', 'hindi'),\n",
       " ('hindi', 'professional'),\n",
       " ('professional', 'working'),\n",
       " ('working', 'proﬁciency'),\n",
       " ('proﬁciency', 'courses'),\n",
       " ('courses', 'achievements/tasks'),\n",
       " ('achievements/tasks', ''),\n",
       " ('divya', 'shree'),\n",
       " ('shree', 's'),\n",
       " ('s', 'women'),\n",
       " ('women', 'of'),\n",
       " ('of', 'action,'),\n",
       " ('action,', 'innovative'),\n",
       " ('innovative', 'thinker,'),\n",
       " ('thinker,', 'veracious'),\n",
       " ('veracious', 'person,'),\n",
       " ('person,', 'smart'),\n",
       " ('smart', 'worker'),\n",
       " ('worker', '169'),\n",
       " ('169', 'kambar'),\n",
       " ('kambar', 'street'),\n",
       " ('street', 'chennai,'),\n",
       " ('chennai,', 'tn'),\n",
       " ('tn', '600072'),\n",
       " ('600072', 'https://www.linkedin.com/in/'),\n",
       " ('https://www.linkedin.com/in/', 'divyashree-s-463187191/'),\n",
       " ('divyashree-s-463187191/', 'education'),\n",
       " ('education', 'degree/grade'),\n",
       " ('degree/grade', 'institution'),\n",
       " ('institution', 'score'),\n",
       " ('score', 'b.tech'),\n",
       " ('b.tech', 'cse'),\n",
       " ('cse', 'vellore'),\n",
       " ('vellore', 'institute'),\n",
       " ('institute', 'of'),\n",
       " ('of', 'technology-'),\n",
       " ('technology-', 'chennai'),\n",
       " ('chennai', '8.56/10'),\n",
       " ('8.56/10', 'cgpa'),\n",
       " ('cgpa', '(2021)'),\n",
       " ('(2021)', 'higher'),\n",
       " ('higher', 'secondary'),\n",
       " ('secondary', 'school'),\n",
       " ('school', 'd.a.v'),\n",
       " ('d.a.v', 'matriculation'),\n",
       " ('matriculation', 'higher'),\n",
       " ('higher', 'secondary'),\n",
       " ('secondary', 'school(state'),\n",
       " ('school(state', 'board)'),\n",
       " ('board)', '84%'),\n",
       " ('84%', 'secondary'),\n",
       " ('secondary', 'school'),\n",
       " ('school', 'immanuel'),\n",
       " ('immanuel', 'matriculation'),\n",
       " ('matriculation', 'higher'),\n",
       " ('higher', 'secondary'),\n",
       " ('secondary', 'school(state'),\n",
       " ('school(state', 'board)'),\n",
       " ('board)', '97%'),\n",
       " ('97%', 'projects'),\n",
       " ('projects', 'health'),\n",
       " ('health', 'and'),\n",
       " ('and', 'diet'),\n",
       " ('diet', 'analysis—'),\n",
       " ('analysis—', 'the'),\n",
       " ('the', 'project'),\n",
       " ('project', 'is'),\n",
       " ('is', 'about'),\n",
       " ('about', 'analyzing'),\n",
       " ('analyzing', 'the'),\n",
       " ('the', 'health'),\n",
       " ('health', 'condition'),\n",
       " ('condition', 'of'),\n",
       " ('of', 'people'),\n",
       " ('people', 'and'),\n",
       " ('and', 'to'),\n",
       " ('to', 'create'),\n",
       " ('create', 'awareness'),\n",
       " ('awareness', 'about'),\n",
       " ('about', 'ﬁtness.'),\n",
       " ('ﬁtness.', 'this'),\n",
       " ('this', 'also'),\n",
       " ('also', 'helps'),\n",
       " ('helps', 'to'),\n",
       " ('to', 'predict'),\n",
       " ('predict', 'the'),\n",
       " ('the', 'possibility'),\n",
       " ('possibility', 'of'),\n",
       " ('of', 'getting'),\n",
       " ('getting', 'cardiac'),\n",
       " ('cardiac', 'and'),\n",
       " ('and', 'diabetes'),\n",
       " ('diabetes', 'disease.'),\n",
       " ('disease.', 'vitmeet(video'),\n",
       " ('vitmeet(video', 'conferencing'),\n",
       " ('conferencing', 'app)-'),\n",
       " ('app)-', 'it’s'),\n",
       " ('it’s', 'an'),\n",
       " ('an', 'online'),\n",
       " ('online', 'learning'),\n",
       " ('learning', 'platform'),\n",
       " ('platform', 'which'),\n",
       " ('which', 'helps'),\n",
       " ('helps', 'people'),\n",
       " ('people', 'to'),\n",
       " ('to', 'attend'),\n",
       " ('attend', 'their'),\n",
       " ('their', 'meetings'),\n",
       " ('meetings', 'and'),\n",
       " ('and', 'share'),\n",
       " ('share', 'their'),\n",
       " ('their', 'ﬁles'),\n",
       " ('ﬁles', 'and'),\n",
       " ('and', 'documents.'),\n",
       " ('documents.', 'online'),\n",
       " ('online', 'music'),\n",
       " ('music', 'system-'),\n",
       " ('system-', 'the'),\n",
       " ('the', 'objective'),\n",
       " ('objective', 'of'),\n",
       " ('of', 'this'),\n",
       " ('this', 'project'),\n",
       " ('project', 'is'),\n",
       " ('is', 'to'),\n",
       " ('to', 'create'),\n",
       " ('create', 'music'),\n",
       " ('music', 'apps'),\n",
       " ('apps', 'like'),\n",
       " ('like', 'spotify,'),\n",
       " ('spotify,', 'jiosaavan'),\n",
       " ('jiosaavan', 'etc.'),\n",
       " ('etc.', ''),\n",
       " ('', 'the'),\n",
       " ('the', 'project'),\n",
       " ('project', 'includes'),\n",
       " ('includes', 'playlists'),\n",
       " ('playlists', 'and'),\n",
       " ('and', 'albums'),\n",
       " ...]"
      ]
     },
     "execution_count": 18,
     "metadata": {},
     "output_type": "execute_result"
    }
   ],
   "source": [
    "bigrams"
   ]
  },
  {
   "cell_type": "markdown",
   "metadata": {},
   "source": [
    "### Extracted entities"
   ]
  },
  {
   "cell_type": "code",
   "execution_count": 19,
   "metadata": {},
   "outputs": [
    {
     "data": {
      "text/plain": [
       "{0: {'NAME': 'Alice Clark',\n",
       "  'LOCATION': 'Delhi',\n",
       "  'DESIGNATION': 'Software Engineer',\n",
       "  'COMPANIES WORKED AT': 'Microsoft',\n",
       "  'DEGREE': 'Indian Institute of Technology – Mumbai',\n",
       "  'Skills': ['machine learning'],\n",
       "  'Match': 14.3},\n",
       " 1: {'NAME': 'B ARAVINDA',\n",
       "  'DEGREE': \"B. Tech Student I'm currently pursuing, B. Tech in Computer Science at VIT. Interested in the ﬁeld of Computer Science and Technologies. Enthusiastic Learner in the ﬁeld of Data Science, Web and App Development. aravinda992@gmail.com +919840280874 Chennai\",\n",
       "  'Skills': ['engineering', 'python', 'html', 'machine learning'],\n",
       "  'Match': 57.1},\n",
       " 2: {'NAME': 'Divya shree',\n",
       "  'DESIGNATION': 'Score B.Tech',\n",
       "  'Skills': ['python', 'html', 'machine learning'],\n",
       "  'Match': 42.9},\n",
       " 3: {'NAME': 'Hashwanth S',\n",
       "  'DESIGNATION': '+91-8248336430 | hashwanth2002@gmail.com | https://www.linkedin.com/in/stykerhash/ |',\n",
       "  'DEGREE': 'Institute of Technology',\n",
       "  'Skills': ['engineering',\n",
       "   'python',\n",
       "   'api',\n",
       "   'html',\n",
       "   'express',\n",
       "   'machine learning'],\n",
       "  'Match': 85.7},\n",
       " 4: {'NAME': 'Narendra G',\n",
       "  'COLLEGE NAME': 'Vellore Institute of Technology, Chennai',\n",
       "  'Skills': ['engineering', 'python', 'html', 'machine learning'],\n",
       "  'Match': 57.1}}"
      ]
     },
     "execution_count": 19,
     "metadata": {},
     "output_type": "execute_result"
    }
   ],
   "source": [
    "extractedDetails"
   ]
  },
  {
   "cell_type": "code",
   "execution_count": 18,
   "metadata": {},
   "outputs": [
    {
     "data": {
      "text/plain": [
       "{0: {'NAME': 'Alice Clark',\n",
       "  'LOCATION': 'Delhi',\n",
       "  'DESIGNATION': 'Software Engineer',\n",
       "  'COMPANIES WORKED AT': 'Microsoft',\n",
       "  'DEGREE': 'Indian Institute of Technology – Mumbai',\n",
       "  'Skills': [],\n",
       "  'Match': 0.0},\n",
       " 1: {'NAME': 'B ARAVINDA',\n",
       "  'DEGREE': \"B. Tech Student I'm currently pursuing, B. Tech in Computer Science at VIT. Interested in the ﬁeld of Computer Science and Technologies. Enthusiastic Learner in the ﬁeld of Data Science, Web and App Development. aravinda992@gmail.com +919840280874 Chennai\",\n",
       "  'Skills': ['engineering', 'python', 'html'],\n",
       "  'Match': 42.9},\n",
       " 2: {'NAME': 'Divya shree',\n",
       "  'DESIGNATION': 'Score B.Tech',\n",
       "  'Skills': ['python', 'html'],\n",
       "  'Match': 28.6},\n",
       " 3: {'NAME': 'Hashwanth S',\n",
       "  'DESIGNATION': '+91-8248336430 | hashwanth2002@gmail.com | https://www.linkedin.com/in/stykerhash/ |',\n",
       "  'DEGREE': 'Institute of Technology',\n",
       "  'Skills': ['engineering', 'python', 'api', 'html', 'express'],\n",
       "  'Match': 71.4},\n",
       " 4: {'NAME': 'Narendra G',\n",
       "  'COLLEGE NAME': 'Vellore Institute of Technology, Chennai',\n",
       "  'Skills': ['engineering', 'python', 'html'],\n",
       "  'Match': 42.9}}"
      ]
     },
     "execution_count": 18,
     "metadata": {},
     "output_type": "execute_result"
    }
   ],
   "source": [
    "extractedDetailsUni"
   ]
  },
  {
   "cell_type": "markdown",
   "metadata": {},
   "source": [
    "#### Inference"
   ]
  },
  {
   "cell_type": "markdown",
   "metadata": {},
   "source": [
    "### Cutoff checker and ranking"
   ]
  },
  {
   "cell_type": "code",
   "execution_count": 20,
   "metadata": {
    "colab": {
     "base_uri": "https://localhost:8080/"
    },
    "id": "4o8te45EHL8V",
    "outputId": "7d781396-4b80-4092-cc97-bf30f049d9a9"
   },
   "outputs": [],
   "source": [
    "def cutoff_checker(extractedDetails, cutoff):\n",
    "    for i in range(len(extractedDetails)):\n",
    "        name = extractedDetails.get(i, {}).get('NAME')\n",
    "        match = extractedDetails.get(i, {}).get('Match')\n",
    "        if match>=cutoff:\n",
    "            ranking[name]=match"
   ]
  },
  {
   "cell_type": "code",
   "execution_count": 21,
   "metadata": {},
   "outputs": [],
   "source": [
    "def cutoff_checker_uni(extractedDetailsUni, cutoff):\n",
    "    for i in range(len(extractedDetailsUni)):\n",
    "        name = extractedDetailsUni.get(i, {}).get('NAME')\n",
    "        match = extractedDetailsUni.get(i, {}).get('Match')\n",
    "        if match>=cutoff:\n",
    "            rankingUni[name]=match"
   ]
  },
  {
   "cell_type": "code",
   "execution_count": 22,
   "metadata": {},
   "outputs": [],
   "source": [
    "ranking = {}\n",
    "rankingUni = {}\n",
    "cutoff_checker(extractedDetails, cutoff)\n",
    "cutoff_checker_uni(extractedDetailsUni, cutoff)"
   ]
  },
  {
   "cell_type": "code",
   "execution_count": 23,
   "metadata": {},
   "outputs": [
    {
     "data": {
      "text/plain": [
       "{'B ARAVINDA': 57.1,\n",
       " 'Divya shree': 42.9,\n",
       " 'Hashwanth S': 85.7,\n",
       " 'Narendra G': 57.1}"
      ]
     },
     "execution_count": 23,
     "metadata": {},
     "output_type": "execute_result"
    }
   ],
   "source": [
    "ranking"
   ]
  },
  {
   "cell_type": "code",
   "execution_count": 24,
   "metadata": {},
   "outputs": [
    {
     "data": {
      "text/plain": [
       "{'B ARAVINDA': 42.9,\n",
       " 'Divya shree': 28.6,\n",
       " 'Hashwanth S': 71.4,\n",
       " 'Narendra G': 42.9}"
      ]
     },
     "execution_count": 24,
     "metadata": {},
     "output_type": "execute_result"
    }
   ],
   "source": [
    "rankingUni"
   ]
  },
  {
   "cell_type": "markdown",
   "metadata": {},
   "source": [
    "### N grams Performance Comparison"
   ]
  },
  {
   "cell_type": "code",
   "execution_count": 27,
   "metadata": {},
   "outputs": [
    {
     "data": {
      "text/html": [
       "<div>\n",
       "<style scoped>\n",
       "    .dataframe tbody tr th:only-of-type {\n",
       "        vertical-align: middle;\n",
       "    }\n",
       "\n",
       "    .dataframe tbody tr th {\n",
       "        vertical-align: top;\n",
       "    }\n",
       "\n",
       "    .dataframe thead th {\n",
       "        text-align: right;\n",
       "    }\n",
       "</style>\n",
       "<table border=\"1\" class=\"dataframe\">\n",
       "  <thead>\n",
       "    <tr style=\"text-align: right;\">\n",
       "      <th></th>\n",
       "      <th>Candidates</th>\n",
       "      <th>bi-gram skill score</th>\n",
       "      <th>skill score</th>\n",
       "      <th>% increase</th>\n",
       "    </tr>\n",
       "  </thead>\n",
       "  <tbody>\n",
       "    <tr>\n",
       "      <th>0</th>\n",
       "      <td>B ARAVINDA</td>\n",
       "      <td>57.1</td>\n",
       "      <td>42.9</td>\n",
       "      <td>33</td>\n",
       "    </tr>\n",
       "    <tr>\n",
       "      <th>1</th>\n",
       "      <td>Divya shree</td>\n",
       "      <td>42.9</td>\n",
       "      <td>28.6</td>\n",
       "      <td>49</td>\n",
       "    </tr>\n",
       "    <tr>\n",
       "      <th>2</th>\n",
       "      <td>Hashwanth S</td>\n",
       "      <td>85.7</td>\n",
       "      <td>71.4</td>\n",
       "      <td>20</td>\n",
       "    </tr>\n",
       "    <tr>\n",
       "      <th>3</th>\n",
       "      <td>Narendra G</td>\n",
       "      <td>57.1</td>\n",
       "      <td>42.9</td>\n",
       "      <td>33</td>\n",
       "    </tr>\n",
       "  </tbody>\n",
       "</table>\n",
       "</div>"
      ],
      "text/plain": [
       "    Candidates  bi-gram skill score  skill score % increase\n",
       "0   B ARAVINDA                 57.1         42.9         33\n",
       "1  Divya shree                 42.9         28.6         49\n",
       "2  Hashwanth S                 85.7         71.4         20\n",
       "3   Narendra G                 57.1         42.9         33"
      ]
     },
     "execution_count": 27,
     "metadata": {},
     "output_type": "execute_result"
    }
   ],
   "source": [
    "df = pd.DataFrame(list(ranking.items()))\n",
    "df.columns = ['Candidates', 'bi-gram skill score']\n",
    "df['skill score'] = list(rankingUni.values())\n",
    "df['% increase'] = ((df['bi-gram skill score'] - df['skill score']) /df['skill score'])*100\n",
    "df['% increase'] = df['% increase'].astype(int)\n",
    "df['% increase'] = df['% increase'].astype(str)\n",
    "df"
   ]
  },
  {
   "cell_type": "code",
   "execution_count": 28,
   "metadata": {},
   "outputs": [
    {
     "name": "stdout",
     "output_type": "stream",
     "text": [
      "On an average, 34 % increase in overall skill matching performance\n"
     ]
    }
   ],
   "source": [
    "Average_per_increase = statistics.mean(df['% increase'].astype(int))\n",
    "print(\"On an average, \" + str(math.ceil(Average_per_increase)) + \" % increase in overall skill matching performance\")"
   ]
  },
  {
   "cell_type": "markdown",
   "metadata": {},
   "source": [
    "### Final shortlisted resume and score"
   ]
  },
  {
   "cell_type": "code",
   "execution_count": 29,
   "metadata": {},
   "outputs": [
    {
     "name": "stdout",
     "output_type": "stream",
     "text": [
      "B ARAVINDA - 57.1\n",
      "Divya shree - 42.9\n",
      "Hashwanth S - 85.7\n",
      "Narendra G - 57.1\n"
     ]
    }
   ],
   "source": [
    "for i in ranking:\n",
    "    print(i,'-',ranking.get(i))"
   ]
  },
  {
   "cell_type": "markdown",
   "metadata": {},
   "source": [
    "## Visualization and evaluation"
   ]
  },
  {
   "cell_type": "code",
   "execution_count": 30,
   "metadata": {
    "id": "w8arseXBEs9u"
   },
   "outputs": [],
   "source": [
    "String = ' '.join([str(elem) for elem in final_token_list])"
   ]
  },
  {
   "cell_type": "markdown",
   "metadata": {},
   "source": [
    "### word cloud for tokens"
   ]
  },
  {
   "cell_type": "code",
   "execution_count": 31,
   "metadata": {
    "id": "XOhO9La6Es9u"
   },
   "outputs": [],
   "source": [
    "def plot_wordcloud(text,max_words=400, max_font_size=120, figure_size=(6.0,4.0), \n",
    "                   title = None, title_size=40, image_color=False):\n",
    "\n",
    "    wordcloud = WordCloud(background_color='white',\n",
    "                    stopwords = stpwords,\n",
    "                    max_words = max_words,\n",
    "                    max_font_size = max_font_size, \n",
    "                    random_state = 42)\n",
    "    wordcloud.generate(text)\n",
    "    \n",
    "    plt.figure(figsize=figure_size)\n",
    "    plt.imshow(wordcloud);\n",
    "    plt.title(title, fontdict={'size': title_size, 'color': 'green', \n",
    "                                  'verticalalignment': 'bottom'})\n",
    "    plt.axis('off');\n",
    "    plt.tight_layout()"
   ]
  },
  {
   "cell_type": "code",
   "execution_count": 32,
   "metadata": {
    "colab": {
     "base_uri": "https://localhost:8080/",
     "height": 257
    },
    "id": "CgbW7BoCEs9v",
    "outputId": "c39798e7-7d9f-471a-b3ff-3b3beb970c1b"
   },
   "outputs": [
    {
     "data": {
      "image/png": "[encoded data removed]",
      "text/plain": [
       "<Figure size 432x288 with 1 Axes>"
      ]
     },
     "metadata": {
      "needs_background": "light"
     },
     "output_type": "display_data"
    }
   ],
   "source": [
    "common_text = String\n",
    "plot_wordcloud(common_text,max_words=80, max_font_size=100, \n",
    "               title = 'TOKENS', title_size=15)"
   ]
  },
  {
   "cell_type": "markdown",
   "metadata": {},
   "source": [
    "### visualizing the resume ranking"
   ]
  },
  {
   "cell_type": "code",
   "execution_count": 26,
   "metadata": {},
   "outputs": [],
   "source": [
    "import pandas as pd\n",
    "import numpy as np\n",
    "import matplotlib.pyplot as plt\n",
    "import seaborn as sns"
   ]
  },
  {
   "cell_type": "code",
   "execution_count": 33,
   "metadata": {},
   "outputs": [
    {
     "data": {
      "text/html": [
       "<div>\n",
       "<style scoped>\n",
       "    .dataframe tbody tr th:only-of-type {\n",
       "        vertical-align: middle;\n",
       "    }\n",
       "\n",
       "    .dataframe tbody tr th {\n",
       "        vertical-align: top;\n",
       "    }\n",
       "\n",
       "    .dataframe thead th {\n",
       "        text-align: right;\n",
       "    }\n",
       "</style>\n",
       "<table border=\"1\" class=\"dataframe\">\n",
       "  <thead>\n",
       "    <tr style=\"text-align: right;\">\n",
       "      <th></th>\n",
       "      <th>Candidates</th>\n",
       "      <th>skill score</th>\n",
       "    </tr>\n",
       "  </thead>\n",
       "  <tbody>\n",
       "    <tr>\n",
       "      <th>0</th>\n",
       "      <td>B ARAVINDA</td>\n",
       "      <td>57.1</td>\n",
       "    </tr>\n",
       "    <tr>\n",
       "      <th>1</th>\n",
       "      <td>Divya shree</td>\n",
       "      <td>42.9</td>\n",
       "    </tr>\n",
       "    <tr>\n",
       "      <th>2</th>\n",
       "      <td>Hashwanth S</td>\n",
       "      <td>85.7</td>\n",
       "    </tr>\n",
       "    <tr>\n",
       "      <th>3</th>\n",
       "      <td>Narendra G</td>\n",
       "      <td>57.1</td>\n",
       "    </tr>\n",
       "  </tbody>\n",
       "</table>\n",
       "</div>"
      ],
      "text/plain": [
       "    Candidates  skill score\n",
       "0   B ARAVINDA         57.1\n",
       "1  Divya shree         42.9\n",
       "2  Hashwanth S         85.7\n",
       "3   Narendra G         57.1"
      ]
     },
     "execution_count": 33,
     "metadata": {},
     "output_type": "execute_result"
    }
   ],
   "source": [
    "df = pd.DataFrame(list(ranking.items()))\n",
    "df.columns = ['Candidates', 'skill score']\n",
    "df"
   ]
  },
  {
   "cell_type": "code",
   "execution_count": 34,
   "metadata": {},
   "outputs": [
    {
     "name": "stderr",
     "output_type": "stream",
     "text": [
      "F:\\SOFTWARE_INSTALLED\\ANACONDA\\lib\\site-packages\\seaborn\\_decorators.py:43: FutureWarning: Pass the following variables as keyword args: x, y. From version 0.12, the only valid positional argument will be `data`, and passing other arguments without an explicit keyword will result in an error or misinterpretation.\n",
      "  FutureWarning\n"
     ]
    },
    {
     "data": {
      "image/png": "[encoded data removed]",
      "text/plain": [
       "<Figure size 432x288 with 1 Axes>"
      ]
     },
     "metadata": {
      "needs_background": "light"
     },
     "output_type": "display_data"
    }
   ],
   "source": [
    "ax = sns.barplot('skill score','Candidates',data = df, palette=\"viridis\")\n",
    "ax.set(xlabel='Score', ylabel='Candidates')\n",
    "plt.title(\"Candidates vs Score\")\n",
    "plt.show()"
   ]
  },
  {
   "cell_type": "code",
   "execution_count": 35,
   "metadata": {},
   "outputs": [
    {
     "data": {
      "image/png": "[encoded data removed]",
      "text/plain": [
       "<Figure size 432x288 with 1 Axes>"
      ]
     },
     "metadata": {},
     "output_type": "display_data"
    }
   ],
   "source": [
    "plt.pie(df['skill score'],labels=df['Candidates'],autopct=\"%.1f%%\",explode=[0.02]*len(df))\n",
    "plt.show()"
   ]
  },
  {
   "cell_type": "markdown",
   "metadata": {},
   "source": [
    "### Model performance"
   ]
  },
  {
   "cell_type": "code",
   "execution_count": 36,
   "metadata": {},
   "outputs": [],
   "source": [
    "mapper = {}\n",
    "max_entity = 0\n",
    "for i in range(len(extractedDetails)):\n",
    "    entity = len(extractedDetails[i])-1\n",
    "    if entity > max_entity:\n",
    "        max_entity = entity\n",
    "    mapper[extractedDetails[i]['NAME']] = entity"
   ]
  },
  {
   "cell_type": "code",
   "execution_count": 37,
   "metadata": {},
   "outputs": [
    {
     "data": {
      "text/html": [
       "<div>\n",
       "<style scoped>\n",
       "    .dataframe tbody tr th:only-of-type {\n",
       "        vertical-align: middle;\n",
       "    }\n",
       "\n",
       "    .dataframe tbody tr th {\n",
       "        vertical-align: top;\n",
       "    }\n",
       "\n",
       "    .dataframe thead th {\n",
       "        text-align: right;\n",
       "    }\n",
       "</style>\n",
       "<table border=\"1\" class=\"dataframe\">\n",
       "  <thead>\n",
       "    <tr style=\"text-align: right;\">\n",
       "      <th></th>\n",
       "      <th>Candidates</th>\n",
       "      <th>Entities Found</th>\n",
       "    </tr>\n",
       "  </thead>\n",
       "  <tbody>\n",
       "    <tr>\n",
       "      <th>0</th>\n",
       "      <td>Alice Clark</td>\n",
       "      <td>6</td>\n",
       "    </tr>\n",
       "    <tr>\n",
       "      <th>1</th>\n",
       "      <td>B ARAVINDA</td>\n",
       "      <td>3</td>\n",
       "    </tr>\n",
       "    <tr>\n",
       "      <th>2</th>\n",
       "      <td>Divya shree</td>\n",
       "      <td>3</td>\n",
       "    </tr>\n",
       "    <tr>\n",
       "      <th>3</th>\n",
       "      <td>Hashwanth S</td>\n",
       "      <td>4</td>\n",
       "    </tr>\n",
       "    <tr>\n",
       "      <th>4</th>\n",
       "      <td>Narendra G</td>\n",
       "      <td>3</td>\n",
       "    </tr>\n",
       "  </tbody>\n",
       "</table>\n",
       "</div>"
      ],
      "text/plain": [
       "    Candidates  Entities Found\n",
       "0  Alice Clark               6\n",
       "1   B ARAVINDA               3\n",
       "2  Divya shree               3\n",
       "3  Hashwanth S               4\n",
       "4   Narendra G               3"
      ]
     },
     "execution_count": 37,
     "metadata": {},
     "output_type": "execute_result"
    }
   ],
   "source": [
    "Entities_df = pd.DataFrame(list(mapper.items()))\n",
    "Entities_df.columns = ['Candidates', 'Entities Found']\n",
    "Entities_df"
   ]
  },
  {
   "cell_type": "code",
   "execution_count": 38,
   "metadata": {},
   "outputs": [
    {
     "name": "stdout",
     "output_type": "stream",
     "text": [
      "Max entities found :  6\n"
     ]
    }
   ],
   "source": [
    "print(\"Max entities found : \",max_entity)"
   ]
  },
  {
   "cell_type": "code",
   "execution_count": 39,
   "metadata": {},
   "outputs": [
    {
     "data": {
      "text/plain": [
       "4"
      ]
     },
     "execution_count": 39,
     "metadata": {},
     "output_type": "execute_result"
    }
   ],
   "source": [
    "import math\n",
    "Avg_entities = sum(Entities_df['Entities Found'])/len(df)\n",
    "math.floor(Avg_entities) "
   ]
  },
  {
   "cell_type": "markdown",
   "metadata": {},
   "source": [
    "#### The model was able to find maximum 6 entities and an average of 4 entities per resume"
   ]
  },
  {
   "cell_type": "markdown",
   "metadata": {},
   "source": [
    "### Summarizer and skills dataframe"
   ]
  },
  {
   "cell_type": "code",
   "execution_count": 40,
   "metadata": {},
   "outputs": [
    {
     "data": {
      "text/plain": [
       "{'Alice Clark': ['Alice Clark',\n",
       "  'Delhi',\n",
       "  'Software Engineer',\n",
       "  'Microsoft',\n",
       "  'Indian Institute of Technology – Mumbai',\n",
       "  ['machine learning']],\n",
       " 'B ARAVINDA': ['B ARAVINDA',\n",
       "  \"B. Tech Student I'm currently pursuing, B. Tech in Computer Science at VIT. Interested in the ﬁeld of Computer Science and Technologies. Enthusiastic Learner in the ﬁeld of Data Science, Web and App Development. aravinda992@gmail.com +919840280874 Chennai\",\n",
       "  ['engineering', 'python', 'html', 'machine learning']],\n",
       " 'Divya shree': ['Divya shree',\n",
       "  'Score B.Tech',\n",
       "  ['python', 'html', 'machine learning']],\n",
       " 'Hashwanth S': ['Hashwanth S',\n",
       "  '+91-8248336430 | hashwanth2002@gmail.com | https://www.linkedin.com/in/stykerhash/ |',\n",
       "  'Institute of Technology',\n",
       "  ['engineering', 'python', 'api', 'html', 'express', 'machine learning']],\n",
       " 'Narendra G': ['Narendra G',\n",
       "  'Vellore Institute of Technology, Chennai',\n",
       "  ['engineering', 'python', 'html', 'machine learning']]}"
      ]
     },
     "execution_count": 40,
     "metadata": {},
     "output_type": "execute_result"
    }
   ],
   "source": [
    "summarized = {}\n",
    "for i in range(len(extractedDetails)):\n",
    "    each_resume = []\n",
    "    for j in extractedDetails[i]:\n",
    "        if j!='Match':\n",
    "            each_resume.append(extractedDetails[i][j])\n",
    "    summarized[extractedDetails[i]['NAME']] = each_resume\n",
    "summarized"
   ]
  },
  {
   "cell_type": "markdown",
   "metadata": {},
   "source": [
    "### Dataframe of candidates and their skills matched with requirement"
   ]
  },
  {
   "cell_type": "code",
   "execution_count": 41,
   "metadata": {},
   "outputs": [
    {
     "data": {
      "text/html": [
       "<div>\n",
       "<style scoped>\n",
       "    .dataframe tbody tr th:only-of-type {\n",
       "        vertical-align: middle;\n",
       "    }\n",
       "\n",
       "    .dataframe tbody tr th {\n",
       "        vertical-align: top;\n",
       "    }\n",
       "\n",
       "    .dataframe thead th {\n",
       "        text-align: right;\n",
       "    }\n",
       "</style>\n",
       "<table border=\"1\" class=\"dataframe\">\n",
       "  <thead>\n",
       "    <tr style=\"text-align: right;\">\n",
       "      <th></th>\n",
       "      <th>Candidates</th>\n",
       "      <th>Matched Skills</th>\n",
       "    </tr>\n",
       "  </thead>\n",
       "  <tbody>\n",
       "    <tr>\n",
       "      <th>0</th>\n",
       "      <td>Alice Clark</td>\n",
       "      <td>machine learning</td>\n",
       "    </tr>\n",
       "    <tr>\n",
       "      <th>1</th>\n",
       "      <td>B ARAVINDA</td>\n",
       "      <td>engineering,python,html,machine learning</td>\n",
       "    </tr>\n",
       "    <tr>\n",
       "      <th>2</th>\n",
       "      <td>Divya shree</td>\n",
       "      <td>python,html,machine learning</td>\n",
       "    </tr>\n",
       "    <tr>\n",
       "      <th>3</th>\n",
       "      <td>Hashwanth S</td>\n",
       "      <td>engineering,python,api,html,express,machine le...</td>\n",
       "    </tr>\n",
       "    <tr>\n",
       "      <th>4</th>\n",
       "      <td>Narendra G</td>\n",
       "      <td>engineering,python,html,machine learning</td>\n",
       "    </tr>\n",
       "  </tbody>\n",
       "</table>\n",
       "</div>"
      ],
      "text/plain": [
       "    Candidates                                     Matched Skills\n",
       "0  Alice Clark                                   machine learning\n",
       "1   B ARAVINDA           engineering,python,html,machine learning\n",
       "2  Divya shree                       python,html,machine learning\n",
       "3  Hashwanth S  engineering,python,api,html,express,machine le...\n",
       "4   Narendra G           engineering,python,html,machine learning"
      ]
     },
     "execution_count": 41,
     "metadata": {},
     "output_type": "execute_result"
    }
   ],
   "source": [
    "candidate_skills = {}\n",
    "for i in summarized:\n",
    "    skills = summarized[i][-1]\n",
    "    if skills != []:\n",
    "        candidate_skills[i] = \",\".join(summarized[i][-1])\n",
    "    else:\n",
    "        candidate_skills[i] = 'None'\n",
    "candidate_skills = pd.DataFrame(list(candidate_skills.items()))\n",
    "candidate_skills.columns = ['Candidates', 'Matched Skills']\n",
    "candidate_skills"
   ]
  },
  {
   "cell_type": "markdown",
   "metadata": {},
   "source": [
    "### Summarized resume of input candidate"
   ]
  },
  {
   "cell_type": "code",
   "execution_count": 42,
   "metadata": {},
   "outputs": [
    {
     "name": "stdout",
     "output_type": "stream",
     "text": [
      "B ARAVINDA\n",
      "B ARAVINDA,B. Tech Student I'm currently pursuing, B. Tech in Computer Science at VIT. Interested in the ﬁeld of Computer Science and Technologies. Enthusiastic Learner in the ﬁeld of Data Science, Web and App Development. aravinda992@gmail.com +919840280874 Chennai,['engineering', 'python', 'html', 'machine learning'],"
     ]
    }
   ],
   "source": [
    "candidate_name = input()\n",
    "length = len(summarized[candidate_name])\n",
    "candidate_details = []\n",
    "for i in range(length):\n",
    "    candidate_details.append(summarized[candidate_name][i])\n",
    "for text in candidate_details:\n",
    "    print(text, end=',')"
   ]
  },
  {
   "cell_type": "code",
   "execution_count": null,
   "metadata": {},
   "outputs": [],
   "source": []
  }
 ],
 "metadata": {
  "colab": {
   "collapsed_sections": [],
   "name": "code.ipynb",
   "provenance": []
  },
  "kernelspec": {
   "display_name": "Python 3 (ipykernel)",
   "language": "python",
   "name": "python3"
  },
  "language_info": {
   "codemirror_mode": {
    "name": "ipython",
    "version": 3
   },
   "file_extension": ".py",
   "mimetype": "text/x-python",
   "name": "python",
   "nbconvert_exporter": "python",
   "pygments_lexer": "ipython3",
   "version": "3.7.6"
  }
 },
 "nbformat": 4,
 "nbformat_minor": 1
}
